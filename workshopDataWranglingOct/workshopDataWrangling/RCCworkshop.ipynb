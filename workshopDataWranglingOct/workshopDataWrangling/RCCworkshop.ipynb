{
 "cells": [
  {
   "cell_type": "markdown",
   "metadata": {},
   "source": [
    "# Data Wrangling or Manipulation in R\n"
   ]
  },
  {
   "cell_type": "code",
   "execution_count": 11,
   "metadata": {},
   "outputs": [],
   "source": [
    "#Installing packages\n",
    "#install.packages(\"tidyverse\")\n",
    "#install.packages(\"data.table\")\n",
    "#install.packages(\"openxlsx\")\n",
    "\n"
   ]
  },
  {
   "cell_type": "code",
   "execution_count": 12,
   "metadata": {},
   "outputs": [],
   "source": [
    "# Loading packages\n",
    "library(tidyverse)\n",
    "library(data.table)\n",
    "library(openxlsx)"
   ]
  },
  {
   "cell_type": "code",
   "execution_count": 13,
   "metadata": {},
   "outputs": [
    {
     "data": {
      "text/html": [
       "'integer'"
      ],
      "text/latex": [
       "'integer'"
      ],
      "text/markdown": [
       "'integer'"
      ],
      "text/plain": [
       "[1] \"integer\""
      ]
     },
     "metadata": {},
     "output_type": "display_data"
    },
    {
     "data": {
      "text/html": [
       "'numeric'"
      ],
      "text/latex": [
       "'numeric'"
      ],
      "text/markdown": [
       "'numeric'"
      ],
      "text/plain": [
       "[1] \"numeric\""
      ]
     },
     "metadata": {},
     "output_type": "display_data"
    },
    {
     "data": {
      "text/html": [
       "'character'"
      ],
      "text/latex": [
       "'character'"
      ],
      "text/markdown": [
       "'character'"
      ],
      "text/plain": [
       "[1] \"character\""
      ]
     },
     "metadata": {},
     "output_type": "display_data"
    },
    {
     "data": {
      "text/html": [
       "'logical'"
      ],
      "text/latex": [
       "'logical'"
      ],
      "text/markdown": [
       "'logical'"
      ],
      "text/plain": [
       "[1] \"logical\""
      ]
     },
     "metadata": {},
     "output_type": "display_data"
    },
    {
     "data": {
      "text/html": [
       "TRUE"
      ],
      "text/latex": [
       "TRUE"
      ],
      "text/markdown": [
       "TRUE"
      ],
      "text/plain": [
       "[1] TRUE"
      ]
     },
     "metadata": {},
     "output_type": "display_data"
    },
    {
     "data": {
      "text/html": [
       "TRUE"
      ],
      "text/latex": [
       "TRUE"
      ],
      "text/markdown": [
       "TRUE"
      ],
      "text/plain": [
       "[1] TRUE"
      ]
     },
     "metadata": {},
     "output_type": "display_data"
    },
    {
     "data": {
      "text/html": [
       "TRUE"
      ],
      "text/latex": [
       "TRUE"
      ],
      "text/markdown": [
       "TRUE"
      ],
      "text/plain": [
       "[1] TRUE"
      ]
     },
     "metadata": {},
     "output_type": "display_data"
    },
    {
     "data": {
      "text/html": [
       "TRUE"
      ],
      "text/latex": [
       "TRUE"
      ],
      "text/markdown": [
       "TRUE"
      ],
      "text/plain": [
       "[1] TRUE"
      ]
     },
     "metadata": {},
     "output_type": "display_data"
    },
    {
     "data": {
      "text/html": [
       "<ol class=list-inline>\n",
       "\t<li>1</li>\n",
       "\t<li>2</li>\n",
       "\t<li>3</li>\n",
       "</ol>\n"
      ],
      "text/latex": [
       "\\begin{enumerate*}\n",
       "\\item 1\n",
       "\\item 2\n",
       "\\item 3\n",
       "\\end{enumerate*}\n"
      ],
      "text/markdown": [
       "1. 1\n",
       "2. 2\n",
       "3. 3\n",
       "\n",
       "\n"
      ],
      "text/plain": [
       "[1] 1 2 3"
      ]
     },
     "metadata": {},
     "output_type": "display_data"
    },
    {
     "data": {
      "text/html": [
       "<ol class=list-inline>\n",
       "\t<li>high</li>\n",
       "\t<li>medium</li>\n",
       "\t<li>low</li>\n",
       "</ol>\n",
       "\n",
       "<details>\n",
       "\t<summary style=display:list-item;cursor:pointer>\n",
       "\t\t<strong>Levels</strong>:\n",
       "\t</summary>\n",
       "\t<ol class=list-inline>\n",
       "\t\t<li>'low'</li>\n",
       "\t\t<li>'medium'</li>\n",
       "\t\t<li>'high'</li>\n",
       "\t</ol>\n",
       "</details>"
      ],
      "text/latex": [
       "\\begin{enumerate*}\n",
       "\\item high\n",
       "\\item medium\n",
       "\\item low\n",
       "\\end{enumerate*}\n",
       "\n",
       "\\emph{Levels}: \\begin{enumerate*}\n",
       "\\item 'low'\n",
       "\\item 'medium'\n",
       "\\item 'high'\n",
       "\\end{enumerate*}\n"
      ],
      "text/markdown": [
       "1. high\n",
       "2. medium\n",
       "3. low\n",
       "\n",
       "\n",
       "\n",
       "**Levels**: 1. 'low'\n",
       "2. 'medium'\n",
       "3. 'high'\n",
       "\n",
       "\n"
      ],
      "text/plain": [
       "[1] high   medium low   \n",
       "Levels: low < medium < high"
      ]
     },
     "metadata": {},
     "output_type": "display_data"
    },
    {
     "data": {
      "text/html": [
       "<table>\n",
       "<caption>A matrix: 3 x 2 of type int</caption>\n",
       "<tbody>\n",
       "\t<tr><td>1</td><td>2</td></tr>\n",
       "\t<tr><td>3</td><td>4</td></tr>\n",
       "\t<tr><td>5</td><td>6</td></tr>\n",
       "</tbody>\n",
       "</table>\n"
      ],
      "text/latex": [
       "A matrix: 3 x 2 of type int\n",
       "\\begin{tabular}{ll}\n",
       "\t 1 & 2\\\\\n",
       "\t 3 & 4\\\\\n",
       "\t 5 & 6\\\\\n",
       "\\end{tabular}\n"
      ],
      "text/markdown": [
       "\n",
       "A matrix: 3 x 2 of type int\n",
       "\n",
       "| 1 | 2 |\n",
       "| 3 | 4 |\n",
       "| 5 | 6 |\n",
       "\n"
      ],
      "text/plain": [
       "     [,1] [,2]\n",
       "[1,] 1    2   \n",
       "[2,] 3    4   \n",
       "[3,] 5    6   "
      ]
     },
     "metadata": {},
     "output_type": "display_data"
    },
    {
     "data": {
      "text/html": [
       "<table>\n",
       "<caption>A data.frame: 3 x 2</caption>\n",
       "<thead>\n",
       "\t<tr><th scope=col>Position</th><th scope=col>Sports</th></tr>\n",
       "\t<tr><th scope=col>&lt;dbl&gt;</th><th scope=col>&lt;fct&gt;</th></tr>\n",
       "</thead>\n",
       "<tbody>\n",
       "\t<tr><td>1</td><td>Hockey  </td></tr>\n",
       "\t<tr><td>2</td><td>Baseball</td></tr>\n",
       "\t<tr><td>3</td><td>Tennis  </td></tr>\n",
       "</tbody>\n",
       "</table>\n"
      ],
      "text/latex": [
       "A data.frame: 3 x 2\n",
       "\\begin{tabular}{r|ll}\n",
       " Position & Sports\\\\\n",
       " <dbl> & <fct>\\\\\n",
       "\\hline\n",
       "\t 1 & Hockey  \\\\\n",
       "\t 2 & Baseball\\\\\n",
       "\t 3 & Tennis  \\\\\n",
       "\\end{tabular}\n"
      ],
      "text/markdown": [
       "\n",
       "A data.frame: 3 x 2\n",
       "\n",
       "| Position &lt;dbl&gt; | Sports &lt;fct&gt; |\n",
       "|---|---|\n",
       "| 1 | Hockey   |\n",
       "| 2 | Baseball |\n",
       "| 3 | Tennis   |\n",
       "\n"
      ],
      "text/plain": [
       "  Position Sports  \n",
       "1 1        Hockey  \n",
       "2 2        Baseball\n",
       "3 3        Tennis  "
      ]
     },
     "metadata": {},
     "output_type": "display_data"
    },
    {
     "data": {
      "text/html": [
       "<ol>\n",
       "\t<li><ol class=list-inline>\n",
       "\t<li>1</li>\n",
       "\t<li>2</li>\n",
       "\t<li>3</li>\n",
       "</ol>\n",
       "</li>\n",
       "\t<li><table>\n",
       "<caption>A data.frame: 3 x 2</caption>\n",
       "<thead>\n",
       "\t<tr><th scope=col>Position</th><th scope=col>Sports</th></tr>\n",
       "\t<tr><th scope=col>&lt;dbl&gt;</th><th scope=col>&lt;fct&gt;</th></tr>\n",
       "</thead>\n",
       "<tbody>\n",
       "\t<tr><td>1</td><td>Hockey  </td></tr>\n",
       "\t<tr><td>2</td><td>Baseball</td></tr>\n",
       "\t<tr><td>3</td><td>Tennis  </td></tr>\n",
       "</tbody>\n",
       "</table>\n",
       "</li>\n",
       "</ol>\n"
      ],
      "text/latex": [
       "\\begin{enumerate}\n",
       "\\item \\begin{enumerate*}\n",
       "\\item 1\n",
       "\\item 2\n",
       "\\item 3\n",
       "\\end{enumerate*}\n",
       "\n",
       "\\item A data.frame: 3 x 2\n",
       "\\begin{tabular}{r|ll}\n",
       " Position & Sports\\\\\n",
       " <dbl> & <fct>\\\\\n",
       "\\hline\n",
       "\t 1 & Hockey  \\\\\n",
       "\t 2 & Baseball\\\\\n",
       "\t 3 & Tennis  \\\\\n",
       "\\end{tabular}\n",
       "\n",
       "\\end{enumerate}\n"
      ],
      "text/markdown": [
       "1. 1. 1\n",
       "2. 2\n",
       "3. 3\n",
       "\n",
       "\n",
       "\n",
       "2. \n",
       "A data.frame: 3 x 2\n",
       "\n",
       "| Position &lt;dbl&gt; | Sports &lt;fct&gt; |\n",
       "|---|---|\n",
       "| 1 | Hockey   |\n",
       "| 2 | Baseball |\n",
       "| 3 | Tennis   |\n",
       "\n",
       "\n",
       "\n",
       "\n"
      ],
      "text/plain": [
       "[[1]]\n",
       "[1] 1 2 3\n",
       "\n",
       "[[2]]\n",
       "  Position   Sports\n",
       "1        1   Hockey\n",
       "2        2 Baseball\n",
       "3        3   Tennis\n"
      ]
     },
     "metadata": {},
     "output_type": "display_data"
    },
    {
     "data": {
      "text/html": [
       "<ol class=list-inline>\n",
       "\t<li>'tbl_df'</li>\n",
       "\t<li>'tbl'</li>\n",
       "\t<li>'data.frame'</li>\n",
       "</ol>\n"
      ],
      "text/latex": [
       "\\begin{enumerate*}\n",
       "\\item 'tbl\\_df'\n",
       "\\item 'tbl'\n",
       "\\item 'data.frame'\n",
       "\\end{enumerate*}\n"
      ],
      "text/markdown": [
       "1. 'tbl_df'\n",
       "2. 'tbl'\n",
       "3. 'data.frame'\n",
       "\n",
       "\n"
      ],
      "text/plain": [
       "[1] \"tbl_df\"     \"tbl\"        \"data.frame\""
      ]
     },
     "metadata": {},
     "output_type": "display_data"
    }
   ],
   "source": [
    "# Data types in R\n",
    "x <- 3L\n",
    "a <- 1.5\n",
    "class(x)\n",
    "class(a)\n",
    "y <- \"RCC\"\n",
    "class(y)\n",
    "z <- TRUE\n",
    "class(z)\n",
    "is.integer(x)\n",
    "is.numeric(a)\n",
    "is.character(y)\n",
    "is.logical(z)\n",
    "# Data structure in R\n",
    "# vector \n",
    "numbers <- c(1,2,3)\n",
    "numbers\n",
    "\n",
    "# factor\n",
    "temp_vector <- c(\"high\", \"medium\", \"low\")\n",
    "factor_temp <- factor(temp_vector, order = TRUE, levels = c(\"low\", \"medium\", \"high\"))\n",
    "factor_temp\n",
    "# matrices\n",
    "A <- matrix(1:6, nrow = 3, byrow=TRUE)\n",
    "A\n",
    "\n",
    "# data frame\n",
    "df <- data.frame(Position= c(1,2,3), Sports = c(\"Hockey\" , \"Baseball\", \"Tennis\"))\n",
    "df\n",
    "\n",
    "# List\n",
    "list1 <- list(numbers, df)\n",
    "list1\n",
    "\n",
    "#tibble\n",
    "tb <- tibble(x = 1:5,\n",
    "             y = c(\"A\", \"B\", \"C\", \"D\", \"E\"))\n",
    "class(tb)\n",
    "\n",
    "\n"
   ]
  },
  {
   "cell_type": "markdown",
   "metadata": {},
   "source": [
    "# Setting working directory\n"
   ]
  },
  {
   "cell_type": "code",
   "execution_count": 14,
   "metadata": {},
   "outputs": [
    {
     "data": {
      "text/html": [
       "'/home/humaasif/workshopDataWrangling'"
      ],
      "text/latex": [
       "'/home/humaasif/workshopDataWrangling'"
      ],
      "text/markdown": [
       "'/home/humaasif/workshopDataWrangling'"
      ],
      "text/plain": [
       "[1] \"/home/humaasif/workshopDataWrangling\""
      ]
     },
     "metadata": {},
     "output_type": "display_data"
    },
    {
     "data": {
      "text/html": [
       "<ol class=list-inline>\n",
       "\t<li>'FunctionalAnnotationKEGG.csv'</li>\n",
       "\t<li>'Gene_list1-organ.csv'</li>\n",
       "\t<li>'generifs_basic'</li>\n",
       "\t<li>'launch-jlab.sh'</li>\n",
       "\t<li>'nb_session_6412758.log'</li>\n",
       "\t<li>'output'</li>\n",
       "\t<li>'RCCworkshop.ipynb'</li>\n",
       "\t<li>'RCCworkshopDataManipulation.ipynb'</li>\n",
       "</ol>\n"
      ],
      "text/latex": [
       "\\begin{enumerate*}\n",
       "\\item 'FunctionalAnnotationKEGG.csv'\n",
       "\\item 'Gene\\_list1-organ.csv'\n",
       "\\item 'generifs\\_basic'\n",
       "\\item 'launch-jlab.sh'\n",
       "\\item 'nb\\_session\\_6412758.log'\n",
       "\\item 'output'\n",
       "\\item 'RCCworkshop.ipynb'\n",
       "\\item 'RCCworkshopDataManipulation.ipynb'\n",
       "\\end{enumerate*}\n"
      ],
      "text/markdown": [
       "1. 'FunctionalAnnotationKEGG.csv'\n",
       "2. 'Gene_list1-organ.csv'\n",
       "3. 'generifs_basic'\n",
       "4. 'launch-jlab.sh'\n",
       "5. 'nb_session_6412758.log'\n",
       "6. 'output'\n",
       "7. 'RCCworkshop.ipynb'\n",
       "8. 'RCCworkshopDataManipulation.ipynb'\n",
       "\n",
       "\n"
      ],
      "text/plain": [
       "[1] \"FunctionalAnnotationKEGG.csv\"      \"Gene_list1-organ.csv\"             \n",
       "[3] \"generifs_basic\"                    \"launch-jlab.sh\"                   \n",
       "[5] \"nb_session_6412758.log\"            \"output\"                           \n",
       "[7] \"RCCworkshop.ipynb\"                 \"RCCworkshopDataManipulation.ipynb\""
      ]
     },
     "metadata": {},
     "output_type": "display_data"
    }
   ],
   "source": [
    "#Print out the current working directory \n",
    "getwd()\n",
    "\n",
    "#Change the current working directory to the workshop directory\n",
    "setwd(\"/home/humaasif/workshopDataWrangling\")\n",
    "\n",
    "#List all the files that exists in your working directory \n",
    "list.files()\n",
    "#dir()"
   ]
  },
  {
   "cell_type": "markdown",
   "metadata": {},
   "source": [
    "# Importing Data in R\n",
    "\n",
    "packages : readr , data.table"
   ]
  },
  {
   "cell_type": "code",
   "execution_count": 15,
   "metadata": {},
   "outputs": [
    {
     "name": "stderr",
     "output_type": "stream",
     "text": [
      "Parsed with column specification:\n",
      "cols(\n",
      "  From = \u001b[31mcol_character()\u001b[39m,\n",
      "  To = \u001b[32mcol_double()\u001b[39m,\n",
      "  organ = \u001b[31mcol_character()\u001b[39m,\n",
      "  timepoint = \u001b[31mcol_character()\u001b[39m\n",
      ")\n",
      "Parsed with column specification:\n",
      "cols(\n",
      "  GeneSymbol = \u001b[31mcol_character()\u001b[39m,\n",
      "  GeneID = \u001b[31mcol_character()\u001b[39m,\n",
      "  Organ = \u001b[31mcol_character()\u001b[39m,\n",
      "  Timepoint = \u001b[31mcol_character()\u001b[39m\n",
      ")\n"
     ]
    },
    {
     "data": {
      "text/html": [
       "<table>\n",
       "<caption>A tibble: 2 x 4</caption>\n",
       "<thead>\n",
       "\t<tr><th scope=col>GeneSymbol</th><th scope=col>GeneID</th><th scope=col>Organ</th><th scope=col>Timepoint</th></tr>\n",
       "\t<tr><th scope=col>&lt;chr&gt;</th><th scope=col>&lt;chr&gt;</th><th scope=col>&lt;chr&gt;</th><th scope=col>&lt;chr&gt;</th></tr>\n",
       "</thead>\n",
       "<tbody>\n",
       "\t<tr><td>From</td><td>To   </td><td>organ</td><td>timepoint</td></tr>\n",
       "\t<tr><td>C4b </td><td>12268</td><td>BM   </td><td>h6       </td></tr>\n",
       "</tbody>\n",
       "</table>\n"
      ],
      "text/latex": [
       "A tibble: 2 x 4\n",
       "\\begin{tabular}{r|llll}\n",
       " GeneSymbol & GeneID & Organ & Timepoint\\\\\n",
       " <chr> & <chr> & <chr> & <chr>\\\\\n",
       "\\hline\n",
       "\t From & To    & organ & timepoint\\\\\n",
       "\t C4b  & 12268 & BM    & h6       \\\\\n",
       "\\end{tabular}\n"
      ],
      "text/markdown": [
       "\n",
       "A tibble: 2 x 4\n",
       "\n",
       "| GeneSymbol &lt;chr&gt; | GeneID &lt;chr&gt; | Organ &lt;chr&gt; | Timepoint &lt;chr&gt; |\n",
       "|---|---|---|---|\n",
       "| From | To    | organ | timepoint |\n",
       "| C4b  | 12268 | BM    | h6        |\n",
       "\n"
      ],
      "text/plain": [
       "  GeneSymbol GeneID Organ Timepoint\n",
       "1 From       To     organ timepoint\n",
       "2 C4b        12268  BM    h6       "
      ]
     },
     "metadata": {},
     "output_type": "display_data"
    },
    {
     "data": {
      "text/html": [
       "<table>\n",
       "<caption>A spec_tbl_df: 2 x 4</caption>\n",
       "<thead>\n",
       "\t<tr><th scope=col>GeneSymbol</th><th scope=col>GeneID</th><th scope=col>Organ</th><th scope=col>Timepoint</th></tr>\n",
       "\t<tr><th scope=col>&lt;chr&gt;</th><th scope=col>&lt;chr&gt;</th><th scope=col>&lt;chr&gt;</th><th scope=col>&lt;chr&gt;</th></tr>\n",
       "</thead>\n",
       "<tbody>\n",
       "\t<tr><td>C4b   </td><td>12268</td><td>BM</td><td>h6</td></tr>\n",
       "\t<tr><td>Olfml3</td><td>99543</td><td>BM</td><td>h6</td></tr>\n",
       "</tbody>\n",
       "</table>\n"
      ],
      "text/latex": [
       "A spec_tbl_df: 2 x 4\n",
       "\\begin{tabular}{r|llll}\n",
       " GeneSymbol & GeneID & Organ & Timepoint\\\\\n",
       " <chr> & <chr> & <chr> & <chr>\\\\\n",
       "\\hline\n",
       "\t C4b    & 12268 & BM & h6\\\\\n",
       "\t Olfml3 & 99543 & BM & h6\\\\\n",
       "\\end{tabular}\n"
      ],
      "text/markdown": [
       "\n",
       "A spec_tbl_df: 2 x 4\n",
       "\n",
       "| GeneSymbol &lt;chr&gt; | GeneID &lt;chr&gt; | Organ &lt;chr&gt; | Timepoint &lt;chr&gt; |\n",
       "|---|---|---|---|\n",
       "| C4b    | 12268 | BM | h6 |\n",
       "| Olfml3 | 99543 | BM | h6 |\n",
       "\n"
      ],
      "text/plain": [
       "  GeneSymbol GeneID Organ Timepoint\n",
       "1 C4b        12268  BM    h6       \n",
       "2 Olfml3     99543  BM    h6       "
      ]
     },
     "metadata": {},
     "output_type": "display_data"
    }
   ],
   "source": [
    "# import Gene_list1-organ.csv using read_csv() from the readr package. \n",
    "#first argument is path to the file to import\n",
    "DEGs_rdr <- read_csv(\"Gene_list1-organ.csv\")\n",
    "#head(DEGs_rdr,2)\n",
    "# Change the column names\n",
    "DEGs_rdr2 <- read_csv(\"Gene_list1-organ.csv\", \n",
    "                      col_names = c(\"GeneSymbol\",\"GeneID\",\"Organ\", \"Timepoint\"))\n",
    "head(DEGs_rdr2,2)\n",
    "# skip, n_max,col_types arguments \n",
    "DEGs_rdr3 <- read_csv(\"Gene_list1-organ.csv\", \n",
    "                      col_names = c(\"GeneSymbol\",\"GeneID\",\"Organ\", \"Timepoint\"),\n",
    "                      skip = 1, n_max = 2, col_types = \"cccc\")\n",
    "DEGs_rdr3\n",
    "\n",
    "#class(DEGs_rdr3)\n"
   ]
  },
  {
   "cell_type": "code",
   "execution_count": 16,
   "metadata": {},
   "outputs": [],
   "source": [
    "# Function documentation: To access the documentation in R\n",
    "#?read_csv\n",
    "#help(read_csv)"
   ]
  },
  {
   "cell_type": "code",
   "execution_count": 17,
   "metadata": {},
   "outputs": [
    {
     "data": {
      "text/html": [
       "<table>\n",
       "<caption>A data.table: 2 x 4</caption>\n",
       "<thead>\n",
       "\t<tr><th scope=col>GeneSymbol</th><th scope=col>GeneID</th><th scope=col>Organ</th><th scope=col>Timepoint</th></tr>\n",
       "\t<tr><th scope=col>&lt;chr&gt;</th><th scope=col>&lt;chr&gt;</th><th scope=col>&lt;chr&gt;</th><th scope=col>&lt;chr&gt;</th></tr>\n",
       "</thead>\n",
       "<tbody>\n",
       "\t<tr><td>C4b   </td><td>12268</td><td>BM</td><td>h6</td></tr>\n",
       "\t<tr><td>Olfml3</td><td>99543</td><td>BM</td><td>h6</td></tr>\n",
       "</tbody>\n",
       "</table>\n"
      ],
      "text/latex": [
       "A data.table: 2 x 4\n",
       "\\begin{tabular}{r|llll}\n",
       " GeneSymbol & GeneID & Organ & Timepoint\\\\\n",
       " <chr> & <chr> & <chr> & <chr>\\\\\n",
       "\\hline\n",
       "\t C4b    & 12268 & BM & h6\\\\\n",
       "\t Olfml3 & 99543 & BM & h6\\\\\n",
       "\\end{tabular}\n"
      ],
      "text/markdown": [
       "\n",
       "A data.table: 2 x 4\n",
       "\n",
       "| GeneSymbol &lt;chr&gt; | GeneID &lt;chr&gt; | Organ &lt;chr&gt; | Timepoint &lt;chr&gt; |\n",
       "|---|---|---|---|\n",
       "| C4b    | 12268 | BM | h6 |\n",
       "| Olfml3 | 99543 | BM | h6 |\n",
       "\n"
      ],
      "text/plain": [
       "  GeneSymbol GeneID Organ Timepoint\n",
       "1 C4b        12268  BM    h6       \n",
       "2 Olfml3     99543  BM    h6       "
      ]
     },
     "metadata": {},
     "output_type": "display_data"
    },
    {
     "data": {
      "text/html": [
       "<table>\n",
       "<caption>A data.table: 2 x 1</caption>\n",
       "<thead>\n",
       "\t<tr><th scope=col>From</th></tr>\n",
       "\t<tr><th scope=col>&lt;chr&gt;</th></tr>\n",
       "</thead>\n",
       "<tbody>\n",
       "\t<tr><td>C4b   </td></tr>\n",
       "\t<tr><td>Olfml3</td></tr>\n",
       "</tbody>\n",
       "</table>\n"
      ],
      "text/latex": [
       "A data.table: 2 x 1\n",
       "\\begin{tabular}{r|l}\n",
       " From\\\\\n",
       " <chr>\\\\\n",
       "\\hline\n",
       "\t C4b   \\\\\n",
       "\t Olfml3\\\\\n",
       "\\end{tabular}\n"
      ],
      "text/markdown": [
       "\n",
       "A data.table: 2 x 1\n",
       "\n",
       "| From &lt;chr&gt; |\n",
       "|---|\n",
       "| C4b    |\n",
       "| Olfml3 |\n",
       "\n"
      ],
      "text/plain": [
       "  From  \n",
       "1 C4b   \n",
       "2 Olfml3"
      ]
     },
     "metadata": {},
     "output_type": "display_data"
    }
   ],
   "source": [
    "#Importing data in R using fread from data.table package\n",
    "# query file  \"Gene_list1-organ.csv\". \n",
    "#explicitly specify the class of columns\n",
    "\n",
    "DEGsGeneList_dt <- fread(\"Gene_list1-organ.csv\", \n",
    "                             colClasses = \"character\", header = TRUE)\n",
    "colnames2 <- c(\"GeneSymbol\",\"GeneID\",\"Organ\", \"Timepoint\")\n",
    "setnames(DEGsGeneList_dt, colnames2)\n",
    "\n",
    "head(DEGsGeneList_dt,2)\n",
    "# select, drop , nrows, and skip arguments for columns and rows.\n",
    "\n",
    "DEGsGeneList_dt2 <- fread(\"Gene_list1-organ.csv\", \n",
    "                           colClasses = \"character\", header = TRUE, select = 1, nrows=2)\n",
    "DEGsGeneList_dt2\n",
    "# check the class of data\n",
    "\n",
    "#class(DEGsGeneList_dt2)"
   ]
  },
  {
   "cell_type": "code",
   "execution_count": 18,
   "metadata": {},
   "outputs": [
    {
     "name": "stdout",
     "output_type": "stream",
     "text": [
      "Classes ‘data.table’ and 'data.frame':\t990 obs. of  4 variables:\n",
      " $ GeneSymbol: chr  \"C4b\" \"Olfml3\" \"A1bg\" \"Iglc1\" ...\n",
      " $ GeneID    : chr  \"12268\" \"99543\" \"117586\" \"110785\" ...\n",
      " $ Organ     : chr  \"BM\" \"BM\" \"BM\" \"BM\" ...\n",
      " $ Timepoint : chr  \"h6\" \"h6\" \"h6\" \"h6\" ...\n",
      " - attr(*, \".internal.selfref\")=<externalptr> \n"
     ]
    },
    {
     "data": {
      "text/html": [
       "<ol class=list-inline>\n",
       "\t<li>990</li>\n",
       "\t<li>4</li>\n",
       "</ol>\n"
      ],
      "text/latex": [
       "\\begin{enumerate*}\n",
       "\\item 990\n",
       "\\item 4\n",
       "\\end{enumerate*}\n"
      ],
      "text/markdown": [
       "1. 990\n",
       "2. 4\n",
       "\n",
       "\n"
      ],
      "text/plain": [
       "[1] 990   4"
      ]
     },
     "metadata": {},
     "output_type": "display_data"
    },
    {
     "data": {
      "text/html": [
       "<table>\n",
       "<caption>A data.table: 2 x 4</caption>\n",
       "<thead>\n",
       "\t<tr><th scope=col>GeneSymbol</th><th scope=col>GeneID</th><th scope=col>Organ</th><th scope=col>Timepoint</th></tr>\n",
       "\t<tr><th scope=col>&lt;chr&gt;</th><th scope=col>&lt;chr&gt;</th><th scope=col>&lt;chr&gt;</th><th scope=col>&lt;chr&gt;</th></tr>\n",
       "</thead>\n",
       "<tbody>\n",
       "\t<tr><td>C4b   </td><td>12268</td><td>BM</td><td>h6</td></tr>\n",
       "\t<tr><td>Olfml3</td><td>99543</td><td>BM</td><td>h6</td></tr>\n",
       "</tbody>\n",
       "</table>\n"
      ],
      "text/latex": [
       "A data.table: 2 x 4\n",
       "\\begin{tabular}{r|llll}\n",
       " GeneSymbol & GeneID & Organ & Timepoint\\\\\n",
       " <chr> & <chr> & <chr> & <chr>\\\\\n",
       "\\hline\n",
       "\t C4b    & 12268 & BM & h6\\\\\n",
       "\t Olfml3 & 99543 & BM & h6\\\\\n",
       "\\end{tabular}\n"
      ],
      "text/markdown": [
       "\n",
       "A data.table: 2 x 4\n",
       "\n",
       "| GeneSymbol &lt;chr&gt; | GeneID &lt;chr&gt; | Organ &lt;chr&gt; | Timepoint &lt;chr&gt; |\n",
       "|---|---|---|---|\n",
       "| C4b    | 12268 | BM | h6 |\n",
       "| Olfml3 | 99543 | BM | h6 |\n",
       "\n"
      ],
      "text/plain": [
       "  GeneSymbol GeneID Organ Timepoint\n",
       "1 C4b        12268  BM    h6       \n",
       "2 Olfml3     99543  BM    h6       "
      ]
     },
     "metadata": {},
     "output_type": "display_data"
    },
    {
     "data": {
      "text/html": [
       "<table>\n",
       "<caption>A data.table: 2 x 4</caption>\n",
       "<thead>\n",
       "\t<tr><th scope=col>GeneSymbol</th><th scope=col>GeneID</th><th scope=col>Organ</th><th scope=col>Timepoint</th></tr>\n",
       "\t<tr><th scope=col>&lt;chr&gt;</th><th scope=col>&lt;chr&gt;</th><th scope=col>&lt;chr&gt;</th><th scope=col>&lt;chr&gt;</th></tr>\n",
       "</thead>\n",
       "<tbody>\n",
       "\t<tr><td>Naxe   </td><td>246703</td><td>HE</td><td>h24</td></tr>\n",
       "\t<tr><td>Selenop</td><td>20363 </td><td>HE</td><td>h24</td></tr>\n",
       "</tbody>\n",
       "</table>\n"
      ],
      "text/latex": [
       "A data.table: 2 x 4\n",
       "\\begin{tabular}{r|llll}\n",
       " GeneSymbol & GeneID & Organ & Timepoint\\\\\n",
       " <chr> & <chr> & <chr> & <chr>\\\\\n",
       "\\hline\n",
       "\t Naxe    & 246703 & HE & h24\\\\\n",
       "\t Selenop & 20363  & HE & h24\\\\\n",
       "\\end{tabular}\n"
      ],
      "text/markdown": [
       "\n",
       "A data.table: 2 x 4\n",
       "\n",
       "| GeneSymbol &lt;chr&gt; | GeneID &lt;chr&gt; | Organ &lt;chr&gt; | Timepoint &lt;chr&gt; |\n",
       "|---|---|---|---|\n",
       "| Naxe    | 246703 | HE | h24 |\n",
       "| Selenop | 20363  | HE | h24 |\n",
       "\n"
      ],
      "text/plain": [
       "  GeneSymbol GeneID Organ Timepoint\n",
       "1 Naxe       246703 HE    h24      \n",
       "2 Selenop    20363  HE    h24      "
      ]
     },
     "metadata": {},
     "output_type": "display_data"
    }
   ],
   "source": [
    "# Get a quick overview of the data\n",
    "str(DEGsGeneList_dt)\n",
    "dim(DEGsGeneList_dt)\n",
    "head(DEGsGeneList_dt,2)\n",
    "tail(DEGsGeneList_dt,2)"
   ]
  },
  {
   "cell_type": "code",
   "execution_count": 19,
   "metadata": {},
   "outputs": [
    {
     "name": "stderr",
     "output_type": "stream",
     "text": [
      "Parsed with column specification:\n",
      "cols(\n",
      "  From = \u001b[31mcol_character()\u001b[39m,\n",
      "  To = \u001b[32mcol_double()\u001b[39m,\n",
      "  organ = \u001b[31mcol_character()\u001b[39m,\n",
      "  timepoint = \u001b[31mcol_character()\u001b[39m\n",
      ")\n"
     ]
    },
    {
     "data": {
      "text/plain": [
       "   user  system elapsed \n",
       "  0.005   0.000   0.008 "
      ]
     },
     "metadata": {},
     "output_type": "display_data"
    },
    {
     "data": {
      "text/plain": [
       "   user  system elapsed \n",
       "  0.001   0.001   0.002 "
      ]
     },
     "metadata": {},
     "output_type": "display_data"
    }
   ],
   "source": [
    "# compare the execution time to read the files using read_csv() and fread. \n",
    "#user cpu time gives the time spent by the current process\n",
    "system.time(read_csv(\"Gene_list1-organ.csv\"))\n",
    "system.time(fread(\"Gene_list1-organ.csv\"))"
   ]
  },
  {
   "cell_type": "code",
   "execution_count": 20,
   "metadata": {},
   "outputs": [
    {
     "data": {
      "text/html": [
       "<table>\n",
       "<caption>A data.table: 2 x 5</caption>\n",
       "<thead>\n",
       "\t<tr><th scope=col>#Tax ID</th><th scope=col>Gene ID</th><th scope=col>PubMed ID (PMID) list</th><th scope=col>last update timestamp</th><th scope=col>GeneRIF text</th></tr>\n",
       "\t<tr><th scope=col>&lt;chr&gt;</th><th scope=col>&lt;chr&gt;</th><th scope=col>&lt;chr&gt;</th><th scope=col>&lt;chr&gt;</th><th scope=col>&lt;chr&gt;</th></tr>\n",
       "</thead>\n",
       "<tbody>\n",
       "\t<tr><td>7</td><td>5692769</td><td>27190162</td><td>2017-11-18 13:38</td><td>we investigated how Azorhizobium caulinodans regulates ROS resistance. We found that in-frame deletions of a gene encoding the putative catalase-peroxidase katG or a gene encoding a LysR-family regulatory protein, oxyR, exhibited increased sensitivity to H2O2 We then showed that OxyR positively regulated katG expression in an H2O2-independent fashion [oxyR].</td></tr>\n",
       "\t<tr><td>7</td><td>5692769</td><td>29150498</td><td>2019-02-02 11:27</td><td>We identified a CheZ-like protein among Alphaproteobacteria functioning in chemotaxis and the A. caulinodans-S. rostrata symbiosis [CheZ].                                                                                                                                                                                                                              </td></tr>\n",
       "</tbody>\n",
       "</table>\n"
      ],
      "text/latex": [
       "A data.table: 2 x 5\n",
       "\\begin{tabular}{r|lllll}\n",
       " \\#Tax ID & Gene ID & PubMed ID (PMID) list & last update timestamp & GeneRIF text\\\\\n",
       " <chr> & <chr> & <chr> & <chr> & <chr>\\\\\n",
       "\\hline\n",
       "\t 7 & 5692769 & 27190162 & 2017-11-18 13:38 & we investigated how Azorhizobium caulinodans regulates ROS resistance. We found that in-frame deletions of a gene encoding the putative catalase-peroxidase katG or a gene encoding a LysR-family regulatory protein, oxyR, exhibited increased sensitivity to H2O2 We then showed that OxyR positively regulated katG expression in an H2O2-independent fashion {[}oxyR{]}.\\\\\n",
       "\t 7 & 5692769 & 29150498 & 2019-02-02 11:27 & We identified a CheZ-like protein among Alphaproteobacteria functioning in chemotaxis and the A. caulinodans-S. rostrata symbiosis {[}CheZ{]}.                                                                                                                                                                                                                              \\\\\n",
       "\\end{tabular}\n"
      ],
      "text/markdown": [
       "\n",
       "A data.table: 2 x 5\n",
       "\n",
       "| #Tax ID &lt;chr&gt; | Gene ID &lt;chr&gt; | PubMed ID (PMID) list &lt;chr&gt; | last update timestamp &lt;chr&gt; | GeneRIF text &lt;chr&gt; |\n",
       "|---|---|---|---|---|\n",
       "| 7 | 5692769 | 27190162 | 2017-11-18 13:38 | we investigated how Azorhizobium caulinodans regulates ROS resistance. We found that in-frame deletions of a gene encoding the putative catalase-peroxidase katG or a gene encoding a LysR-family regulatory protein, oxyR, exhibited increased sensitivity to H2O2 We then showed that OxyR positively regulated katG expression in an H2O2-independent fashion [oxyR]. |\n",
       "| 7 | 5692769 | 29150498 | 2019-02-02 11:27 | We identified a CheZ-like protein among Alphaproteobacteria functioning in chemotaxis and the A. caulinodans-S. rostrata symbiosis [CheZ].                                                                                                                                                                                                                               |\n",
       "\n"
      ],
      "text/plain": [
       "  #Tax ID Gene ID PubMed ID (PMID) list last update timestamp\n",
       "1 7       5692769 27190162              2017-11-18 13:38     \n",
       "2 7       5692769 29150498              2019-02-02 11:27     \n",
       "  GeneRIF text                                                                                                                                                                                                                                                                                                                                                            \n",
       "1 we investigated how Azorhizobium caulinodans regulates ROS resistance. We found that in-frame deletions of a gene encoding the putative catalase-peroxidase katG or a gene encoding a LysR-family regulatory protein, oxyR, exhibited increased sensitivity to H2O2 We then showed that OxyR positively regulated katG expression in an H2O2-independent fashion [oxyR].\n",
       "2 We identified a CheZ-like protein among Alphaproteobacteria functioning in chemotaxis and the A. caulinodans-S. rostrata symbiosis [CheZ].                                                                                                                                                                                                                              "
      ]
     },
     "metadata": {},
     "output_type": "display_data"
    },
    {
     "data": {
      "text/html": [
       "<table>\n",
       "<caption>A data.table: 2 x 2</caption>\n",
       "<thead>\n",
       "\t<tr><th scope=col>#Tax ID</th><th scope=col>Gene ID</th></tr>\n",
       "\t<tr><th scope=col>&lt;chr&gt;</th><th scope=col>&lt;chr&gt;</th></tr>\n",
       "</thead>\n",
       "<tbody>\n",
       "\t<tr><td>7</td><td>5692769</td></tr>\n",
       "\t<tr><td>7</td><td>5692769</td></tr>\n",
       "</tbody>\n",
       "</table>\n"
      ],
      "text/latex": [
       "A data.table: 2 x 2\n",
       "\\begin{tabular}{r|ll}\n",
       " \\#Tax ID & Gene ID\\\\\n",
       " <chr> & <chr>\\\\\n",
       "\\hline\n",
       "\t 7 & 5692769\\\\\n",
       "\t 7 & 5692769\\\\\n",
       "\\end{tabular}\n"
      ],
      "text/markdown": [
       "\n",
       "A data.table: 2 x 2\n",
       "\n",
       "| #Tax ID &lt;chr&gt; | Gene ID &lt;chr&gt; |\n",
       "|---|---|\n",
       "| 7 | 5692769 |\n",
       "| 7 | 5692769 |\n",
       "\n"
      ],
      "text/plain": [
       "  #Tax ID Gene ID\n",
       "1 7       5692769\n",
       "2 7       5692769"
      ]
     },
     "metadata": {},
     "output_type": "display_data"
    },
    {
     "data": {
      "text/html": [
       "<table>\n",
       "<caption>A data.table: 2 x 5</caption>\n",
       "<thead>\n",
       "\t<tr><th scope=col>TaxID</th><th scope=col>GeneID</th><th scope=col>PubMedID</th><th scope=col>Last_update_timestamp</th><th scope=col>GeneRIF</th></tr>\n",
       "\t<tr><th scope=col>&lt;chr&gt;</th><th scope=col>&lt;chr&gt;</th><th scope=col>&lt;chr&gt;</th><th scope=col>&lt;chr&gt;</th><th scope=col>&lt;chr&gt;</th></tr>\n",
       "</thead>\n",
       "<tbody>\n",
       "\t<tr><td>7</td><td>5692769</td><td>27190162</td><td>2017-11-18 13:38</td><td>we investigated how Azorhizobium caulinodans regulates ROS resistance. We found that in-frame deletions of a gene encoding the putative catalase-peroxidase katG or a gene encoding a LysR-family regulatory protein, oxyR, exhibited increased sensitivity to H2O2 We then showed that OxyR positively regulated katG expression in an H2O2-independent fashion [oxyR].</td></tr>\n",
       "\t<tr><td>7</td><td>5692769</td><td>29150498</td><td>2019-02-02 11:27</td><td>We identified a CheZ-like protein among Alphaproteobacteria functioning in chemotaxis and the A. caulinodans-S. rostrata symbiosis [CheZ].                                                                                                                                                                                                                              </td></tr>\n",
       "</tbody>\n",
       "</table>\n"
      ],
      "text/latex": [
       "A data.table: 2 x 5\n",
       "\\begin{tabular}{r|lllll}\n",
       " TaxID & GeneID & PubMedID & Last\\_update\\_timestamp & GeneRIF\\\\\n",
       " <chr> & <chr> & <chr> & <chr> & <chr>\\\\\n",
       "\\hline\n",
       "\t 7 & 5692769 & 27190162 & 2017-11-18 13:38 & we investigated how Azorhizobium caulinodans regulates ROS resistance. We found that in-frame deletions of a gene encoding the putative catalase-peroxidase katG or a gene encoding a LysR-family regulatory protein, oxyR, exhibited increased sensitivity to H2O2 We then showed that OxyR positively regulated katG expression in an H2O2-independent fashion {[}oxyR{]}.\\\\\n",
       "\t 7 & 5692769 & 29150498 & 2019-02-02 11:27 & We identified a CheZ-like protein among Alphaproteobacteria functioning in chemotaxis and the A. caulinodans-S. rostrata symbiosis {[}CheZ{]}.                                                                                                                                                                                                                              \\\\\n",
       "\\end{tabular}\n"
      ],
      "text/markdown": [
       "\n",
       "A data.table: 2 x 5\n",
       "\n",
       "| TaxID &lt;chr&gt; | GeneID &lt;chr&gt; | PubMedID &lt;chr&gt; | Last_update_timestamp &lt;chr&gt; | GeneRIF &lt;chr&gt; |\n",
       "|---|---|---|---|---|\n",
       "| 7 | 5692769 | 27190162 | 2017-11-18 13:38 | we investigated how Azorhizobium caulinodans regulates ROS resistance. We found that in-frame deletions of a gene encoding the putative catalase-peroxidase katG or a gene encoding a LysR-family regulatory protein, oxyR, exhibited increased sensitivity to H2O2 We then showed that OxyR positively regulated katG expression in an H2O2-independent fashion [oxyR]. |\n",
       "| 7 | 5692769 | 29150498 | 2019-02-02 11:27 | We identified a CheZ-like protein among Alphaproteobacteria functioning in chemotaxis and the A. caulinodans-S. rostrata symbiosis [CheZ].                                                                                                                                                                                                                               |\n",
       "\n"
      ],
      "text/plain": [
       "  TaxID GeneID  PubMedID Last_update_timestamp\n",
       "1 7     5692769 27190162 2017-11-18 13:38     \n",
       "2 7     5692769 29150498 2019-02-02 11:27     \n",
       "  GeneRIF                                                                                                                                                                                                                                                                                                                                                                 \n",
       "1 we investigated how Azorhizobium caulinodans regulates ROS resistance. We found that in-frame deletions of a gene encoding the putative catalase-peroxidase katG or a gene encoding a LysR-family regulatory protein, oxyR, exhibited increased sensitivity to H2O2 We then showed that OxyR positively regulated katG expression in an H2O2-independent fashion [oxyR].\n",
       "2 We identified a CheZ-like protein among Alphaproteobacteria functioning in chemotaxis and the A. caulinodans-S. rostrata symbiosis [CheZ].                                                                                                                                                                                                                              "
      ]
     },
     "metadata": {},
     "output_type": "display_data"
    }
   ],
   "source": [
    "# importing the GeneRIF database. \n",
    "\n",
    "GeneRIF_database1 <- fread(\"generifs_basic\", quote=\"\",\n",
    "                           colClasses = \"character\", header = TRUE )\n",
    "head(GeneRIF_database1, 2)\n",
    "# To select these columns you need to surround them with backticks or you can rename them\n",
    "GeneRIF_database_s <- GeneRIF_database1 %>%\n",
    "select( `#Tax ID`, `Gene ID`)\n",
    "\n",
    "head(GeneRIF_database_s,2)\n",
    "# Rename the columns using setnames() or col.names()\n",
    "colnames <- c(\"TaxID\",\"GeneID\",\"PubMedID\",\"Last_update_timestamp\",\"GeneRIF\") \n",
    "GeneRIF_database <- fread(\"generifs_basic\", quote=\"\",\n",
    "                          colClasses = \"character\", header = TRUE , \n",
    "                          col.names = colnames)\n",
    "head(GeneRIF_database,2) # note we have just GeneID's here\n",
    "\n",
    "\n"
   ]
  },
  {
   "cell_type": "markdown",
   "metadata": {},
   "source": [
    "# Data manipulation \n",
    "\n",
    "package: dplyr, stringr\n",
    "\n",
    "Filtering and mutating joins in dplyr\n",
    "\n",
    "Hunting matching strings \n",
    "\n"
   ]
  },
  {
   "cell_type": "code",
   "execution_count": 21,
   "metadata": {},
   "outputs": [
    {
     "data": {
      "text/html": [
       "<table>\n",
       "<caption>A data.table: 2 x 1</caption>\n",
       "<thead>\n",
       "\t<tr><th scope=col>GeneID</th></tr>\n",
       "\t<tr><th scope=col>&lt;chr&gt;</th></tr>\n",
       "</thead>\n",
       "<tbody>\n",
       "\t<tr><td>12268</td></tr>\n",
       "\t<tr><td>99543</td></tr>\n",
       "</tbody>\n",
       "</table>\n"
      ],
      "text/latex": [
       "A data.table: 2 x 1\n",
       "\\begin{tabular}{r|l}\n",
       " GeneID\\\\\n",
       " <chr>\\\\\n",
       "\\hline\n",
       "\t 12268\\\\\n",
       "\t 99543\\\\\n",
       "\\end{tabular}\n"
      ],
      "text/markdown": [
       "\n",
       "A data.table: 2 x 1\n",
       "\n",
       "| GeneID &lt;chr&gt; |\n",
       "|---|\n",
       "| 12268 |\n",
       "| 99543 |\n",
       "\n"
      ],
      "text/plain": [
       "  GeneID\n",
       "1 12268 \n",
       "2 99543 "
      ]
     },
     "metadata": {},
     "output_type": "display_data"
    },
    {
     "name": "stderr",
     "output_type": "stream",
     "text": [
      "Joining, by = \"GeneID\"\n"
     ]
    },
    {
     "data": {
      "text/html": [
       "<ol class=list-inline>\n",
       "\t<li>866</li>\n",
       "\t<li>1</li>\n",
       "</ol>\n"
      ],
      "text/latex": [
       "\\begin{enumerate*}\n",
       "\\item 866\n",
       "\\item 1\n",
       "\\end{enumerate*}\n"
      ],
      "text/markdown": [
       "1. 866\n",
       "2. 1\n",
       "\n",
       "\n"
      ],
      "text/plain": [
       "[1] 866   1"
      ]
     },
     "metadata": {},
     "output_type": "display_data"
    },
    {
     "data": {
      "text/html": [
       "<table>\n",
       "<caption>A data.frame: 2 x 1</caption>\n",
       "<thead>\n",
       "\t<tr><th scope=col>GeneID</th></tr>\n",
       "\t<tr><th scope=col>&lt;chr&gt;</th></tr>\n",
       "</thead>\n",
       "<tbody>\n",
       "\t<tr><td>12268 </td></tr>\n",
       "\t<tr><td>117586</td></tr>\n",
       "</tbody>\n",
       "</table>\n"
      ],
      "text/latex": [
       "A data.frame: 2 x 1\n",
       "\\begin{tabular}{r|l}\n",
       " GeneID\\\\\n",
       " <chr>\\\\\n",
       "\\hline\n",
       "\t 12268 \\\\\n",
       "\t 117586\\\\\n",
       "\\end{tabular}\n"
      ],
      "text/markdown": [
       "\n",
       "A data.frame: 2 x 1\n",
       "\n",
       "| GeneID &lt;chr&gt; |\n",
       "|---|\n",
       "| 12268  |\n",
       "| 117586 |\n",
       "\n"
      ],
      "text/plain": [
       "  GeneID\n",
       "1 12268 \n",
       "2 117586"
      ]
     },
     "metadata": {},
     "output_type": "display_data"
    },
    {
     "name": "stderr",
     "output_type": "stream",
     "text": [
      "Joining, by = \"GeneID\"\n"
     ]
    },
    {
     "data": {
      "text/html": [
       "<ol class=list-inline>\n",
       "\t<li>124</li>\n",
       "\t<li>1</li>\n",
       "</ol>\n"
      ],
      "text/latex": [
       "\\begin{enumerate*}\n",
       "\\item 124\n",
       "\\item 1\n",
       "\\end{enumerate*}\n"
      ],
      "text/markdown": [
       "1. 124\n",
       "2. 1\n",
       "\n",
       "\n"
      ],
      "text/plain": [
       "[1] 124   1"
      ]
     },
     "metadata": {},
     "output_type": "display_data"
    }
   ],
   "source": [
    "# select the geneIds\n",
    "DEGsGeneListGeneID <- DEGsGeneList_dt  %>%\n",
    "select('GeneID') \n",
    "head(DEGsGeneListGeneID,2)\n",
    "# Filter genes that have  GeneRIFs using filtering join : semi_join()\n",
    "FilteredDEGsID <- DEGsGeneListGeneID %>%\n",
    "semi_join(GeneRIF_database)\n",
    "dim(FilteredDEGsID)\n",
    "head(FilteredDEGsID,2) # just one column i.e. GeneID\n",
    "\n",
    "# Genes with out GeneRIF\n",
    "DEGsID_withoutGeneRIF <- DEGsGeneListGeneID %>%\n",
    "anti_join(GeneRIF_database)\n",
    "dim(DEGsID_withoutGeneRIF)\n"
   ]
  },
  {
   "cell_type": "code",
   "execution_count": 22,
   "metadata": {},
   "outputs": [
    {
     "name": "stderr",
     "output_type": "stream",
     "text": [
      "Joining, by = \"GeneID\"\n"
     ]
    },
    {
     "data": {
      "text/html": [
       "<table>\n",
       "<caption>A data.frame: 2 x 5</caption>\n",
       "<thead>\n",
       "\t<tr><th scope=col>TaxID</th><th scope=col>GeneID</th><th scope=col>PubMedID</th><th scope=col>Last_update_timestamp</th><th scope=col>GeneRIF</th></tr>\n",
       "\t<tr><th scope=col>&lt;chr&gt;</th><th scope=col>&lt;chr&gt;</th><th scope=col>&lt;chr&gt;</th><th scope=col>&lt;chr&gt;</th><th scope=col>&lt;chr&gt;</th></tr>\n",
       "</thead>\n",
       "<tbody>\n",
       "\t<tr><td>10090</td><td>11421</td><td>12003835</td><td>2010-01-21 00:00</td><td>data suggest that ACE is essential to ANG II formation in the vascular space                                                                   </td></tr>\n",
       "\t<tr><td>10090</td><td>11421</td><td>12167603</td><td>2010-01-21 00:00</td><td>urine-concentrating defect in mice with absence of tissue ACE is associated with downregulation of key urea, salt, and water transport proteins</td></tr>\n",
       "</tbody>\n",
       "</table>\n"
      ],
      "text/latex": [
       "A data.frame: 2 x 5\n",
       "\\begin{tabular}{r|lllll}\n",
       " TaxID & GeneID & PubMedID & Last\\_update\\_timestamp & GeneRIF\\\\\n",
       " <chr> & <chr> & <chr> & <chr> & <chr>\\\\\n",
       "\\hline\n",
       "\t 10090 & 11421 & 12003835 & 2010-01-21 00:00 & data suggest that ACE is essential to ANG II formation in the vascular space                                                                   \\\\\n",
       "\t 10090 & 11421 & 12167603 & 2010-01-21 00:00 & urine-concentrating defect in mice with absence of tissue ACE is associated with downregulation of key urea, salt, and water transport proteins\\\\\n",
       "\\end{tabular}\n"
      ],
      "text/markdown": [
       "\n",
       "A data.frame: 2 x 5\n",
       "\n",
       "| TaxID &lt;chr&gt; | GeneID &lt;chr&gt; | PubMedID &lt;chr&gt; | Last_update_timestamp &lt;chr&gt; | GeneRIF &lt;chr&gt; |\n",
       "|---|---|---|---|---|\n",
       "| 10090 | 11421 | 12003835 | 2010-01-21 00:00 | data suggest that ACE is essential to ANG II formation in the vascular space                                                                    |\n",
       "| 10090 | 11421 | 12167603 | 2010-01-21 00:00 | urine-concentrating defect in mice with absence of tissue ACE is associated with downregulation of key urea, salt, and water transport proteins |\n",
       "\n"
      ],
      "text/plain": [
       "  TaxID GeneID PubMedID Last_update_timestamp\n",
       "1 10090 11421  12003835 2010-01-21 00:00     \n",
       "2 10090 11421  12167603 2010-01-21 00:00     \n",
       "  GeneRIF                                                                                                                                        \n",
       "1 data suggest that ACE is essential to ANG II formation in the vascular space                                                                   \n",
       "2 urine-concentrating defect in mice with absence of tissue ACE is associated with downregulation of key urea, salt, and water transport proteins"
      ]
     },
     "metadata": {},
     "output_type": "display_data"
    },
    {
     "data": {
      "text/html": [
       "<ol class=list-inline>\n",
       "\t<li>45448</li>\n",
       "\t<li>5</li>\n",
       "</ol>\n"
      ],
      "text/latex": [
       "\\begin{enumerate*}\n",
       "\\item 45448\n",
       "\\item 5\n",
       "\\end{enumerate*}\n"
      ],
      "text/markdown": [
       "1. 45448\n",
       "2. 5\n",
       "\n",
       "\n"
      ],
      "text/plain": [
       "[1] 45448     5"
      ]
     },
     "metadata": {},
     "output_type": "display_data"
    },
    {
     "name": "stderr",
     "output_type": "stream",
     "text": [
      "Joining, by = \"GeneID\"\n"
     ]
    },
    {
     "data": {
      "text/html": [
       "<table>\n",
       "<caption>A data.frame: 2 x 5</caption>\n",
       "<thead>\n",
       "\t<tr><th scope=col>GeneID</th><th scope=col>TaxID</th><th scope=col>PubMedID</th><th scope=col>Last_update_timestamp</th><th scope=col>GeneRIF</th></tr>\n",
       "\t<tr><th scope=col>&lt;chr&gt;</th><th scope=col>&lt;chr&gt;</th><th scope=col>&lt;chr&gt;</th><th scope=col>&lt;chr&gt;</th><th scope=col>&lt;chr&gt;</th></tr>\n",
       "</thead>\n",
       "<tbody>\n",
       "\t<tr><td>12268</td><td>10090</td><td>11726230</td><td>2010-01-21 00:00</td><td>C4 modulates interstitial inflammation in experimental glomerulonephritis.                                  </td></tr>\n",
       "\t<tr><td>12268</td><td>10090</td><td>11801636</td><td>2010-01-21 00:00</td><td>Complement C4 provides an important protective role against the development of systemic lupus erythematosus.</td></tr>\n",
       "</tbody>\n",
       "</table>\n"
      ],
      "text/latex": [
       "A data.frame: 2 x 5\n",
       "\\begin{tabular}{r|lllll}\n",
       " GeneID & TaxID & PubMedID & Last\\_update\\_timestamp & GeneRIF\\\\\n",
       " <chr> & <chr> & <chr> & <chr> & <chr>\\\\\n",
       "\\hline\n",
       "\t 12268 & 10090 & 11726230 & 2010-01-21 00:00 & C4 modulates interstitial inflammation in experimental glomerulonephritis.                                  \\\\\n",
       "\t 12268 & 10090 & 11801636 & 2010-01-21 00:00 & Complement C4 provides an important protective role against the development of systemic lupus erythematosus.\\\\\n",
       "\\end{tabular}\n"
      ],
      "text/markdown": [
       "\n",
       "A data.frame: 2 x 5\n",
       "\n",
       "| GeneID &lt;chr&gt; | TaxID &lt;chr&gt; | PubMedID &lt;chr&gt; | Last_update_timestamp &lt;chr&gt; | GeneRIF &lt;chr&gt; |\n",
       "|---|---|---|---|---|\n",
       "| 12268 | 10090 | 11726230 | 2010-01-21 00:00 | C4 modulates interstitial inflammation in experimental glomerulonephritis.                                   |\n",
       "| 12268 | 10090 | 11801636 | 2010-01-21 00:00 | Complement C4 provides an important protective role against the development of systemic lupus erythematosus. |\n",
       "\n"
      ],
      "text/plain": [
       "  GeneID TaxID PubMedID Last_update_timestamp\n",
       "1 12268  10090 11726230 2010-01-21 00:00     \n",
       "2 12268  10090 11801636 2010-01-21 00:00     \n",
       "  GeneRIF                                                                                                     \n",
       "1 C4 modulates interstitial inflammation in experimental glomerulonephritis.                                  \n",
       "2 Complement C4 provides an important protective role against the development of systemic lupus erythematosus."
      ]
     },
     "metadata": {},
     "output_type": "display_data"
    },
    {
     "data": {
      "text/html": [
       "<ol class=list-inline>\n",
       "\t<li>45448</li>\n",
       "\t<li>5</li>\n",
       "</ol>\n"
      ],
      "text/latex": [
       "\\begin{enumerate*}\n",
       "\\item 45448\n",
       "\\item 5\n",
       "\\end{enumerate*}\n"
      ],
      "text/markdown": [
       "1. 45448\n",
       "2. 5\n",
       "\n",
       "\n"
      ],
      "text/plain": [
       "[1] 45448     5"
      ]
     },
     "metadata": {},
     "output_type": "display_data"
    }
   ],
   "source": [
    "# Add GeneRIFs for the filtered genes using mutating join : inner_join() \n",
    "# check the number of columns in the output\n",
    "\n",
    "FilteredDEGsWithGeneRIF <- GeneRIF_database %>%\n",
    "                                    inner_join(FilteredDEGsID)\n",
    "\n",
    "head(FilteredDEGsWithGeneRIF,2)\n",
    "dim(FilteredDEGsWithGeneRIF)  \n",
    "\n",
    "# order is not imp\n",
    "x <- FilteredDEGsID %>%\n",
    "    inner_join(GeneRIF_database)\n",
    "head(x,2)\n",
    "dim(x)"
   ]
  },
  {
   "cell_type": "code",
   "execution_count": 23,
   "metadata": {},
   "outputs": [
    {
     "data": {
      "text/html": [
       "<table>\n",
       "<caption>A data.frame: 2 x 4</caption>\n",
       "<thead>\n",
       "\t<tr><th scope=col>TaxID</th><th scope=col>GeneID</th><th scope=col>PubMedID</th><th scope=col>GeneRIF</th></tr>\n",
       "\t<tr><th scope=col>&lt;chr&gt;</th><th scope=col>&lt;chr&gt;</th><th scope=col>&lt;chr&gt;</th><th scope=col>&lt;chr&gt;</th></tr>\n",
       "</thead>\n",
       "<tbody>\n",
       "\t<tr><td>M.musculus</td><td>11421</td><td>12003835</td><td>data suggest that ACE is essential to ANG II formation in the vascular space                                                                   </td></tr>\n",
       "\t<tr><td>M.musculus</td><td>11421</td><td>12167603</td><td>urine-concentrating defect in mice with absence of tissue ACE is associated with downregulation of key urea, salt, and water transport proteins</td></tr>\n",
       "</tbody>\n",
       "</table>\n"
      ],
      "text/latex": [
       "A data.frame: 2 x 4\n",
       "\\begin{tabular}{r|llll}\n",
       " TaxID & GeneID & PubMedID & GeneRIF\\\\\n",
       " <chr> & <chr> & <chr> & <chr>\\\\\n",
       "\\hline\n",
       "\t M.musculus & 11421 & 12003835 & data suggest that ACE is essential to ANG II formation in the vascular space                                                                   \\\\\n",
       "\t M.musculus & 11421 & 12167603 & urine-concentrating defect in mice with absence of tissue ACE is associated with downregulation of key urea, salt, and water transport proteins\\\\\n",
       "\\end{tabular}\n"
      ],
      "text/markdown": [
       "\n",
       "A data.frame: 2 x 4\n",
       "\n",
       "| TaxID &lt;chr&gt; | GeneID &lt;chr&gt; | PubMedID &lt;chr&gt; | GeneRIF &lt;chr&gt; |\n",
       "|---|---|---|---|\n",
       "| M.musculus | 11421 | 12003835 | data suggest that ACE is essential to ANG II formation in the vascular space                                                                    |\n",
       "| M.musculus | 11421 | 12167603 | urine-concentrating defect in mice with absence of tissue ACE is associated with downregulation of key urea, salt, and water transport proteins |\n",
       "\n"
      ],
      "text/plain": [
       "  TaxID      GeneID PubMedID\n",
       "1 M.musculus 11421  12003835\n",
       "2 M.musculus 11421  12167603\n",
       "  GeneRIF                                                                                                                                        \n",
       "1 data suggest that ACE is essential to ANG II formation in the vascular space                                                                   \n",
       "2 urine-concentrating defect in mice with absence of tissue ACE is associated with downregulation of key urea, salt, and water transport proteins"
      ]
     },
     "metadata": {},
     "output_type": "display_data"
    },
    {
     "data": {
      "text/html": [
       "<table>\n",
       "<caption>A data.frame: 2 x 4</caption>\n",
       "<thead>\n",
       "\t<tr><th scope=col>TaxID</th><th scope=col>GeneID</th><th scope=col>PubMedID</th><th scope=col>GeneRIF</th></tr>\n",
       "\t<tr><th scope=col>&lt;chr&gt;</th><th scope=col>&lt;chr&gt;</th><th scope=col>&lt;chr&gt;</th><th scope=col>&lt;chr&gt;</th></tr>\n",
       "</thead>\n",
       "<tbody>\n",
       "\t<tr><td>M.musculus</td><td>11421</td><td>12003835</td><td>data suggest that ACE is essential to ANG II formation in the vascular space                                                                   </td></tr>\n",
       "\t<tr><td>M.musculus</td><td>11421</td><td>12167603</td><td>urine-concentrating defect in mice with absence of tissue ACE is associated with downregulation of key urea, salt, and water transport proteins</td></tr>\n",
       "</tbody>\n",
       "</table>\n"
      ],
      "text/latex": [
       "A data.frame: 2 x 4\n",
       "\\begin{tabular}{r|llll}\n",
       " TaxID & GeneID & PubMedID & GeneRIF\\\\\n",
       " <chr> & <chr> & <chr> & <chr>\\\\\n",
       "\\hline\n",
       "\t M.musculus & 11421 & 12003835 & data suggest that ACE is essential to ANG II formation in the vascular space                                                                   \\\\\n",
       "\t M.musculus & 11421 & 12167603 & urine-concentrating defect in mice with absence of tissue ACE is associated with downregulation of key urea, salt, and water transport proteins\\\\\n",
       "\\end{tabular}\n"
      ],
      "text/markdown": [
       "\n",
       "A data.frame: 2 x 4\n",
       "\n",
       "| TaxID &lt;chr&gt; | GeneID &lt;chr&gt; | PubMedID &lt;chr&gt; | GeneRIF &lt;chr&gt; |\n",
       "|---|---|---|---|\n",
       "| M.musculus | 11421 | 12003835 | data suggest that ACE is essential to ANG II formation in the vascular space                                                                    |\n",
       "| M.musculus | 11421 | 12167603 | urine-concentrating defect in mice with absence of tissue ACE is associated with downregulation of key urea, salt, and water transport proteins |\n",
       "\n"
      ],
      "text/plain": [
       "  TaxID      GeneID PubMedID\n",
       "1 M.musculus 11421  12003835\n",
       "2 M.musculus 11421  12167603\n",
       "  GeneRIF                                                                                                                                        \n",
       "1 data suggest that ACE is essential to ANG II formation in the vascular space                                                                   \n",
       "2 urine-concentrating defect in mice with absence of tissue ACE is associated with downregulation of key urea, salt, and water transport proteins"
      ]
     },
     "metadata": {},
     "output_type": "display_data"
    },
    {
     "name": "stderr",
     "output_type": "stream",
     "text": [
      "Joining, by = \"GeneID\"\n"
     ]
    },
    {
     "data": {
      "text/html": [
       "<table>\n",
       "<caption>A data.frame: 2 x 7</caption>\n",
       "<thead>\n",
       "\t<tr><th scope=col>TaxID</th><th scope=col>GeneID</th><th scope=col>GeneSymbol</th><th scope=col>PubMedID</th><th scope=col>GeneRIF</th><th scope=col>Organ</th><th scope=col>Timepoint</th></tr>\n",
       "\t<tr><th scope=col>&lt;chr&gt;</th><th scope=col>&lt;chr&gt;</th><th scope=col>&lt;chr&gt;</th><th scope=col>&lt;chr&gt;</th><th scope=col>&lt;chr&gt;</th><th scope=col>&lt;chr&gt;</th><th scope=col>&lt;chr&gt;</th></tr>\n",
       "</thead>\n",
       "<tbody>\n",
       "\t<tr><td>M.musculus</td><td>11421</td><td>Ace</td><td>12003835</td><td>data suggest that ACE is essential to ANG II formation in the vascular space                                                                   </td><td>BM</td><td>h24</td></tr>\n",
       "\t<tr><td>M.musculus</td><td>11421</td><td>Ace</td><td>12167603</td><td>urine-concentrating defect in mice with absence of tissue ACE is associated with downregulation of key urea, salt, and water transport proteins</td><td>BM</td><td>h24</td></tr>\n",
       "</tbody>\n",
       "</table>\n"
      ],
      "text/latex": [
       "A data.frame: 2 x 7\n",
       "\\begin{tabular}{r|lllllll}\n",
       " TaxID & GeneID & GeneSymbol & PubMedID & GeneRIF & Organ & Timepoint\\\\\n",
       " <chr> & <chr> & <chr> & <chr> & <chr> & <chr> & <chr>\\\\\n",
       "\\hline\n",
       "\t M.musculus & 11421 & Ace & 12003835 & data suggest that ACE is essential to ANG II formation in the vascular space                                                                    & BM & h24\\\\\n",
       "\t M.musculus & 11421 & Ace & 12167603 & urine-concentrating defect in mice with absence of tissue ACE is associated with downregulation of key urea, salt, and water transport proteins & BM & h24\\\\\n",
       "\\end{tabular}\n"
      ],
      "text/markdown": [
       "\n",
       "A data.frame: 2 x 7\n",
       "\n",
       "| TaxID &lt;chr&gt; | GeneID &lt;chr&gt; | GeneSymbol &lt;chr&gt; | PubMedID &lt;chr&gt; | GeneRIF &lt;chr&gt; | Organ &lt;chr&gt; | Timepoint &lt;chr&gt; |\n",
       "|---|---|---|---|---|---|---|\n",
       "| M.musculus | 11421 | Ace | 12003835 | data suggest that ACE is essential to ANG II formation in the vascular space                                                                    | BM | h24 |\n",
       "| M.musculus | 11421 | Ace | 12167603 | urine-concentrating defect in mice with absence of tissue ACE is associated with downregulation of key urea, salt, and water transport proteins | BM | h24 |\n",
       "\n"
      ],
      "text/plain": [
       "  TaxID      GeneID GeneSymbol PubMedID\n",
       "1 M.musculus 11421  Ace        12003835\n",
       "2 M.musculus 11421  Ace        12167603\n",
       "  GeneRIF                                                                                                                                        \n",
       "1 data suggest that ACE is essential to ANG II formation in the vascular space                                                                   \n",
       "2 urine-concentrating defect in mice with absence of tissue ACE is associated with downregulation of key urea, salt, and water transport proteins\n",
       "  Organ Timepoint\n",
       "1 BM    h24      \n",
       "2 BM    h24      "
      ]
     },
     "metadata": {},
     "output_type": "display_data"
    }
   ],
   "source": [
    "# find Genes based on taxonomy. see how Pipe operators link filter, select and mutate functions \n",
    "FilteredDEGsWithGeneRIF_taxID <- FilteredDEGsWithGeneRIF %>%\n",
    "                                filter(TaxID %in% c(9606, 10090)) %>%\n",
    "                                select(-Last_update_timestamp) %>%\n",
    "                                mutate(TaxID= ifelse(10090, \"M.musculus\", \"Homo sapiens\")) \n",
    "\n",
    "head(FilteredDEGsWithGeneRIF_taxID,2)\n",
    "\n",
    "# try transmute. you will get same result as you get with select and mutate\n",
    "taxID_tM <- FilteredDEGsWithGeneRIF %>%\n",
    "                                filter(TaxID %in% c(9606, 10090)) %>%\n",
    "                                transmute(TaxID, GeneID,PubMedID, GeneRIF, \n",
    "                                          TaxID= ifelse(10090, \"M.musculus\", \"Homo sapiens\"))\n",
    "head(taxID_tM,2)  \n",
    "\n",
    "\n",
    "\n",
    "# Add gene symbols using left_join : another mutating join that we discussed\n",
    "DEGsWithSymbols <- FilteredDEGsWithGeneRIF_taxID  %>%\n",
    "                      left_join(DEGsGeneList_dt) %>%\n",
    "                      select(TaxID, GeneID, GeneSymbol,PubMedID, GeneRIF, Organ, Timepoint )\n",
    "head(DEGsWithSymbols,2)\n",
    "#dim(DEGsWithSymbols)\n",
    "\n"
   ]
  },
  {
   "cell_type": "code",
   "execution_count": 24,
   "metadata": {},
   "outputs": [
    {
     "data": {
      "text/html": [
       "<table>\n",
       "<caption>A data.frame: 2 x 8</caption>\n",
       "<thead>\n",
       "\t<tr><th scope=col>TaxID</th><th scope=col>GeneID</th><th scope=col>GeneSymbol</th><th scope=col>PubMedID</th><th scope=col>GeneRIF</th><th scope=col>Organ</th><th scope=col>Timepoint</th><th scope=col>Disease1</th></tr>\n",
       "\t<tr><th scope=col>&lt;chr&gt;</th><th scope=col>&lt;chr&gt;</th><th scope=col>&lt;chr&gt;</th><th scope=col>&lt;chr&gt;</th><th scope=col>&lt;chr&gt;</th><th scope=col>&lt;chr&gt;</th><th scope=col>&lt;chr&gt;</th><th scope=col>&lt;lgl&gt;</th></tr>\n",
       "</thead>\n",
       "<tbody>\n",
       "\t<tr><td>M.musculus</td><td>11421</td><td>Ace</td><td>12003835</td><td>data suggest that ACE is essential to ANG II formation in the vascular space                                                                   </td><td>BM</td><td>h24</td><td>FALSE</td></tr>\n",
       "\t<tr><td>M.musculus</td><td>11421</td><td>Ace</td><td>12167603</td><td>urine-concentrating defect in mice with absence of tissue ACE is associated with downregulation of key urea, salt, and water transport proteins</td><td>BM</td><td>h24</td><td>FALSE</td></tr>\n",
       "</tbody>\n",
       "</table>\n"
      ],
      "text/latex": [
       "A data.frame: 2 x 8\n",
       "\\begin{tabular}{r|llllllll}\n",
       " TaxID & GeneID & GeneSymbol & PubMedID & GeneRIF & Organ & Timepoint & Disease1\\\\\n",
       " <chr> & <chr> & <chr> & <chr> & <chr> & <chr> & <chr> & <lgl>\\\\\n",
       "\\hline\n",
       "\t M.musculus & 11421 & Ace & 12003835 & data suggest that ACE is essential to ANG II formation in the vascular space                                                                    & BM & h24 & FALSE\\\\\n",
       "\t M.musculus & 11421 & Ace & 12167603 & urine-concentrating defect in mice with absence of tissue ACE is associated with downregulation of key urea, salt, and water transport proteins & BM & h24 & FALSE\\\\\n",
       "\\end{tabular}\n"
      ],
      "text/markdown": [
       "\n",
       "A data.frame: 2 x 8\n",
       "\n",
       "| TaxID &lt;chr&gt; | GeneID &lt;chr&gt; | GeneSymbol &lt;chr&gt; | PubMedID &lt;chr&gt; | GeneRIF &lt;chr&gt; | Organ &lt;chr&gt; | Timepoint &lt;chr&gt; | Disease1 &lt;lgl&gt; |\n",
       "|---|---|---|---|---|---|---|---|\n",
       "| M.musculus | 11421 | Ace | 12003835 | data suggest that ACE is essential to ANG II formation in the vascular space                                                                    | BM | h24 | FALSE |\n",
       "| M.musculus | 11421 | Ace | 12167603 | urine-concentrating defect in mice with absence of tissue ACE is associated with downregulation of key urea, salt, and water transport proteins | BM | h24 | FALSE |\n",
       "\n"
      ],
      "text/plain": [
       "  TaxID      GeneID GeneSymbol PubMedID\n",
       "1 M.musculus 11421  Ace        12003835\n",
       "2 M.musculus 11421  Ace        12167603\n",
       "  GeneRIF                                                                                                                                        \n",
       "1 data suggest that ACE is essential to ANG II formation in the vascular space                                                                   \n",
       "2 urine-concentrating defect in mice with absence of tissue ACE is associated with downregulation of key urea, salt, and water transport proteins\n",
       "  Organ Timepoint Disease1\n",
       "1 BM    h24       FALSE   \n",
       "2 BM    h24       FALSE   "
      ]
     },
     "metadata": {},
     "output_type": "display_data"
    },
    {
     "data": {
      "text/html": [
       "<table>\n",
       "<caption>A data.frame: 2 x 8</caption>\n",
       "<thead>\n",
       "\t<tr><th></th><th scope=col>TaxID</th><th scope=col>GeneID</th><th scope=col>GeneSymbol</th><th scope=col>PubMedID</th><th scope=col>GeneRIF</th><th scope=col>Organ</th><th scope=col>Timepoint</th><th scope=col>Disease1</th></tr>\n",
       "\t<tr><th></th><th scope=col>&lt;chr&gt;</th><th scope=col>&lt;chr&gt;</th><th scope=col>&lt;chr&gt;</th><th scope=col>&lt;chr&gt;</th><th scope=col>&lt;chr&gt;</th><th scope=col>&lt;chr&gt;</th><th scope=col>&lt;chr&gt;</th><th scope=col>&lt;chr&gt;</th></tr>\n",
       "</thead>\n",
       "<tbody>\n",
       "\t<tr><th scope=row>45447</th><td>M.musculus</td><td>100038882</td><td>Isg15</td><td>29891555</td><td>this study shows that cysteine-reactive free ISG15 generates IL-1beta-producing CD8alpha(+) dendritic cells at the site of infection</td><td>BM</td><td>h12</td><td>0</td></tr>\n",
       "\t<tr><th scope=row>45448</th><td>M.musculus</td><td>100038882</td><td>Isg15</td><td>31772204</td><td>ISG15 modifies extracellular and mitochondrial proteins during Listeria monocytogenes infection.                                    </td><td>BM</td><td>h12</td><td>0</td></tr>\n",
       "</tbody>\n",
       "</table>\n"
      ],
      "text/latex": [
       "A data.frame: 2 x 8\n",
       "\\begin{tabular}{r|llllllll}\n",
       "  & TaxID & GeneID & GeneSymbol & PubMedID & GeneRIF & Organ & Timepoint & Disease1\\\\\n",
       "  & <chr> & <chr> & <chr> & <chr> & <chr> & <chr> & <chr> & <chr>\\\\\n",
       "\\hline\n",
       "\t45447 & M.musculus & 100038882 & Isg15 & 29891555 & this study shows that cysteine-reactive free ISG15 generates IL-1beta-producing CD8alpha(+) dendritic cells at the site of infection & BM & h12 & 0\\\\\n",
       "\t45448 & M.musculus & 100038882 & Isg15 & 31772204 & ISG15 modifies extracellular and mitochondrial proteins during Listeria monocytogenes infection.                                     & BM & h12 & 0\\\\\n",
       "\\end{tabular}\n"
      ],
      "text/markdown": [
       "\n",
       "A data.frame: 2 x 8\n",
       "\n",
       "| <!--/--> | TaxID &lt;chr&gt; | GeneID &lt;chr&gt; | GeneSymbol &lt;chr&gt; | PubMedID &lt;chr&gt; | GeneRIF &lt;chr&gt; | Organ &lt;chr&gt; | Timepoint &lt;chr&gt; | Disease1 &lt;chr&gt; |\n",
       "|---|---|---|---|---|---|---|---|---|\n",
       "| 45447 | M.musculus | 100038882 | Isg15 | 29891555 | this study shows that cysteine-reactive free ISG15 generates IL-1beta-producing CD8alpha(+) dendritic cells at the site of infection | BM | h12 | 0 |\n",
       "| 45448 | M.musculus | 100038882 | Isg15 | 31772204 | ISG15 modifies extracellular and mitochondrial proteins during Listeria monocytogenes infection.                                     | BM | h12 | 0 |\n",
       "\n"
      ],
      "text/plain": [
       "      TaxID      GeneID    GeneSymbol PubMedID\n",
       "45447 M.musculus 100038882 Isg15      29891555\n",
       "45448 M.musculus 100038882 Isg15      31772204\n",
       "      GeneRIF                                                                                                                             \n",
       "45447 this study shows that cysteine-reactive free ISG15 generates IL-1beta-producing CD8alpha(+) dendritic cells at the site of infection\n",
       "45448 ISG15 modifies extracellular and mitochondrial proteins during Listeria monocytogenes infection.                                    \n",
       "      Organ Timepoint Disease1\n",
       "45447 BM    h12       0       \n",
       "45448 BM    h12       0       "
      ]
     },
     "metadata": {},
     "output_type": "display_data"
    },
    {
     "data": {
      "text/html": [
       "<table>\n",
       "<caption>A data.frame: 2 x 9</caption>\n",
       "<thead>\n",
       "\t<tr><th></th><th scope=col>TaxID</th><th scope=col>GeneID</th><th scope=col>GeneSymbol</th><th scope=col>PubMedID</th><th scope=col>GeneRIF</th><th scope=col>Organ</th><th scope=col>Timepoint</th><th scope=col>Disease1</th><th scope=col>Disease2</th></tr>\n",
       "\t<tr><th></th><th scope=col>&lt;chr&gt;</th><th scope=col>&lt;chr&gt;</th><th scope=col>&lt;chr&gt;</th><th scope=col>&lt;chr&gt;</th><th scope=col>&lt;chr&gt;</th><th scope=col>&lt;chr&gt;</th><th scope=col>&lt;chr&gt;</th><th scope=col>&lt;chr&gt;</th><th scope=col>&lt;chr&gt;</th></tr>\n",
       "</thead>\n",
       "<tbody>\n",
       "\t<tr><th scope=row>45447</th><td>M.musculus</td><td>100038882</td><td>Isg15</td><td>29891555</td><td>this study shows that cysteine-reactive free ISG15 generates IL-1beta-producing CD8alpha(+) dendritic cells at the site of infection</td><td>BM</td><td>h12</td><td>0</td><td>0</td></tr>\n",
       "\t<tr><th scope=row>45448</th><td>M.musculus</td><td>100038882</td><td>Isg15</td><td>31772204</td><td>ISG15 modifies extracellular and mitochondrial proteins during Listeria monocytogenes infection.                                    </td><td>BM</td><td>h12</td><td>0</td><td>0</td></tr>\n",
       "</tbody>\n",
       "</table>\n"
      ],
      "text/latex": [
       "A data.frame: 2 x 9\n",
       "\\begin{tabular}{r|lllllllll}\n",
       "  & TaxID & GeneID & GeneSymbol & PubMedID & GeneRIF & Organ & Timepoint & Disease1 & Disease2\\\\\n",
       "  & <chr> & <chr> & <chr> & <chr> & <chr> & <chr> & <chr> & <chr> & <chr>\\\\\n",
       "\\hline\n",
       "\t45447 & M.musculus & 100038882 & Isg15 & 29891555 & this study shows that cysteine-reactive free ISG15 generates IL-1beta-producing CD8alpha(+) dendritic cells at the site of infection & BM & h12 & 0 & 0\\\\\n",
       "\t45448 & M.musculus & 100038882 & Isg15 & 31772204 & ISG15 modifies extracellular and mitochondrial proteins during Listeria monocytogenes infection.                                     & BM & h12 & 0 & 0\\\\\n",
       "\\end{tabular}\n"
      ],
      "text/markdown": [
       "\n",
       "A data.frame: 2 x 9\n",
       "\n",
       "| <!--/--> | TaxID &lt;chr&gt; | GeneID &lt;chr&gt; | GeneSymbol &lt;chr&gt; | PubMedID &lt;chr&gt; | GeneRIF &lt;chr&gt; | Organ &lt;chr&gt; | Timepoint &lt;chr&gt; | Disease1 &lt;chr&gt; | Disease2 &lt;chr&gt; |\n",
       "|---|---|---|---|---|---|---|---|---|---|\n",
       "| 45447 | M.musculus | 100038882 | Isg15 | 29891555 | this study shows that cysteine-reactive free ISG15 generates IL-1beta-producing CD8alpha(+) dendritic cells at the site of infection | BM | h12 | 0 | 0 |\n",
       "| 45448 | M.musculus | 100038882 | Isg15 | 31772204 | ISG15 modifies extracellular and mitochondrial proteins during Listeria monocytogenes infection.                                     | BM | h12 | 0 | 0 |\n",
       "\n"
      ],
      "text/plain": [
       "      TaxID      GeneID    GeneSymbol PubMedID\n",
       "45447 M.musculus 100038882 Isg15      29891555\n",
       "45448 M.musculus 100038882 Isg15      31772204\n",
       "      GeneRIF                                                                                                                             \n",
       "45447 this study shows that cysteine-reactive free ISG15 generates IL-1beta-producing CD8alpha(+) dendritic cells at the site of infection\n",
       "45448 ISG15 modifies extracellular and mitochondrial proteins during Listeria monocytogenes infection.                                    \n",
       "      Organ Timepoint Disease1 Disease2\n",
       "45447 BM    h12       0        0       \n",
       "45448 BM    h12       0        0       "
      ]
     },
     "metadata": {},
     "output_type": "display_data"
    }
   ],
   "source": [
    "# Find genes involved in a particular disease. \n",
    "DEGsGeneRIF_PD <- DEGsWithSymbols %>%\n",
    "                 mutate(Disease1 = str_detect(GeneRIF, \n",
    "                                   regex(\"\\\\bsepsis\\\\b\", ignore_case = TRUE)))\n",
    "\n",
    "head(DEGsGeneRIF_PD,2)\n",
    "\n",
    "\n",
    "DEGsGeneRIF_PD1 <- DEGsWithSymbols %>%\n",
    "                 mutate(Disease1 = ifelse(str_detect(GeneRIF, \n",
    "                                    regex(\"\\\\bsepsis\\\\b\", ignore_case = TRUE)),\n",
    "                                    \"sepsis\",0))\n",
    "\n",
    "tail(DEGsGeneRIF_PD1,2)\n",
    "\n",
    "# lets try with another disease\n",
    "DEGs_output <- DEGsGeneRIF_PD1 %>%\n",
    "                    mutate(Disease2 = ifelse(str_detect(GeneRIF, \n",
    "                                                   regex(\"\\\\binflammation\\\\b\", ignore_case = TRUE)),\n",
    "                                                    \"inflammation\",0))\n",
    "\n",
    "tail(DEGs_output,2)"
   ]
  },
  {
   "cell_type": "markdown",
   "metadata": {},
   "source": [
    "# Aggregating data"
   ]
  },
  {
   "cell_type": "code",
   "execution_count": 25,
   "metadata": {},
   "outputs": [
    {
     "data": {
      "text/html": [
       "<table>\n",
       "<caption>A tibble: 1 x 1</caption>\n",
       "<thead>\n",
       "\t<tr><th scope=col>n</th></tr>\n",
       "\t<tr><th scope=col>&lt;int&gt;</th></tr>\n",
       "</thead>\n",
       "<tbody>\n",
       "\t<tr><td>252</td></tr>\n",
       "</tbody>\n",
       "</table>\n"
      ],
      "text/latex": [
       "A tibble: 1 x 1\n",
       "\\begin{tabular}{r|l}\n",
       " n\\\\\n",
       " <int>\\\\\n",
       "\\hline\n",
       "\t 252\\\\\n",
       "\\end{tabular}\n"
      ],
      "text/markdown": [
       "\n",
       "A tibble: 1 x 1\n",
       "\n",
       "| n &lt;int&gt; |\n",
       "|---|\n",
       "| 252 |\n",
       "\n"
      ],
      "text/plain": [
       "  n  \n",
       "1 252"
      ]
     },
     "metadata": {},
     "output_type": "display_data"
    },
    {
     "data": {
      "text/html": [
       "<table>\n",
       "<caption>A tibble: 1 x 1</caption>\n",
       "<thead>\n",
       "\t<tr><th scope=col>n</th></tr>\n",
       "\t<tr><th scope=col>&lt;int&gt;</th></tr>\n",
       "</thead>\n",
       "<tbody>\n",
       "\t<tr><td>2026</td></tr>\n",
       "</tbody>\n",
       "</table>\n"
      ],
      "text/latex": [
       "A tibble: 1 x 1\n",
       "\\begin{tabular}{r|l}\n",
       " n\\\\\n",
       " <int>\\\\\n",
       "\\hline\n",
       "\t 2026\\\\\n",
       "\\end{tabular}\n"
      ],
      "text/markdown": [
       "\n",
       "A tibble: 1 x 1\n",
       "\n",
       "| n &lt;int&gt; |\n",
       "|---|\n",
       "| 2026 |\n",
       "\n"
      ],
      "text/plain": [
       "  n   \n",
       "1 2026"
      ]
     },
     "metadata": {},
     "output_type": "display_data"
    },
    {
     "data": {
      "text/html": [
       "<table>\n",
       "<caption>A tibble: 1 x 1</caption>\n",
       "<thead>\n",
       "\t<tr><th scope=col>n</th></tr>\n",
       "\t<tr><th scope=col>&lt;int&gt;</th></tr>\n",
       "</thead>\n",
       "<tbody>\n",
       "\t<tr><td>16</td></tr>\n",
       "</tbody>\n",
       "</table>\n"
      ],
      "text/latex": [
       "A tibble: 1 x 1\n",
       "\\begin{tabular}{r|l}\n",
       " n\\\\\n",
       " <int>\\\\\n",
       "\\hline\n",
       "\t 16\\\\\n",
       "\\end{tabular}\n"
      ],
      "text/markdown": [
       "\n",
       "A tibble: 1 x 1\n",
       "\n",
       "| n &lt;int&gt; |\n",
       "|---|\n",
       "| 16 |\n",
       "\n"
      ],
      "text/plain": [
       "  n \n",
       "1 16"
      ]
     },
     "metadata": {},
     "output_type": "display_data"
    }
   ],
   "source": [
    "# lets count GeneRIF with disease 1 using group_by() and count()\n",
    "DEGs_output %>%\n",
    "filter(Disease1 != 0) %>%\n",
    "count()\n",
    "\n",
    "# count GeneRIF with disease  2\n",
    "DEGs_output %>%\n",
    "filter(Disease2 != 0) %>%\n",
    "count()\n",
    "\n",
    "# GeneRIF with disease 1 and disease 2\n",
    "DEGs_output %>%\n",
    "filter(Disease1 != 0, Disease2 != 0) %>%\n",
    "count()\n",
    "\n",
    "\n"
   ]
  },
  {
   "cell_type": "code",
   "execution_count": 26,
   "metadata": {},
   "outputs": [
    {
     "data": {
      "text/html": [
       "<table>\n",
       "<caption>A data.frame: 2 x 7</caption>\n",
       "<thead>\n",
       "\t<tr><th scope=col>TaxID</th><th scope=col>GeneID</th><th scope=col>GeneSymbol</th><th scope=col>PubMedID</th><th scope=col>GeneRIF</th><th scope=col>Organ</th><th scope=col>Timepoint</th></tr>\n",
       "\t<tr><th scope=col>&lt;chr&gt;</th><th scope=col>&lt;chr&gt;</th><th scope=col>&lt;chr&gt;</th><th scope=col>&lt;chr&gt;</th><th scope=col>&lt;chr&gt;</th><th scope=col>&lt;chr&gt;</th><th scope=col>&lt;chr&gt;</th></tr>\n",
       "</thead>\n",
       "<tbody>\n",
       "\t<tr><td>M.musculus</td><td>11450</td><td>Adipoq</td><td>18628355</td><td>these data suggest a critical role of adiponectin as a modulator of survival and endothelial inflammation in experimental sepsis    </td><td>BM</td><td>h24</td></tr>\n",
       "\t<tr><td>M.musculus</td><td>11450</td><td>Adipoq</td><td>22258235</td><td>Data suggest a protective role of adiponectin in diminishing microvascular organ-specific endothelial cell activation during sepsis.</td><td>BM</td><td>h24</td></tr>\n",
       "</tbody>\n",
       "</table>\n"
      ],
      "text/latex": [
       "A data.frame: 2 x 7\n",
       "\\begin{tabular}{r|lllllll}\n",
       " TaxID & GeneID & GeneSymbol & PubMedID & GeneRIF & Organ & Timepoint\\\\\n",
       " <chr> & <chr> & <chr> & <chr> & <chr> & <chr> & <chr>\\\\\n",
       "\\hline\n",
       "\t M.musculus & 11450 & Adipoq & 18628355 & these data suggest a critical role of adiponectin as a modulator of survival and endothelial inflammation in experimental sepsis     & BM & h24\\\\\n",
       "\t M.musculus & 11450 & Adipoq & 22258235 & Data suggest a protective role of adiponectin in diminishing microvascular organ-specific endothelial cell activation during sepsis. & BM & h24\\\\\n",
       "\\end{tabular}\n"
      ],
      "text/markdown": [
       "\n",
       "A data.frame: 2 x 7\n",
       "\n",
       "| TaxID &lt;chr&gt; | GeneID &lt;chr&gt; | GeneSymbol &lt;chr&gt; | PubMedID &lt;chr&gt; | GeneRIF &lt;chr&gt; | Organ &lt;chr&gt; | Timepoint &lt;chr&gt; |\n",
       "|---|---|---|---|---|---|---|\n",
       "| M.musculus | 11450 | Adipoq | 18628355 | these data suggest a critical role of adiponectin as a modulator of survival and endothelial inflammation in experimental sepsis     | BM | h24 |\n",
       "| M.musculus | 11450 | Adipoq | 22258235 | Data suggest a protective role of adiponectin in diminishing microvascular organ-specific endothelial cell activation during sepsis. | BM | h24 |\n",
       "\n"
      ],
      "text/plain": [
       "  TaxID      GeneID GeneSymbol PubMedID\n",
       "1 M.musculus 11450  Adipoq     18628355\n",
       "2 M.musculus 11450  Adipoq     22258235\n",
       "  GeneRIF                                                                                                                             \n",
       "1 these data suggest a critical role of adiponectin as a modulator of survival and endothelial inflammation in experimental sepsis    \n",
       "2 Data suggest a protective role of adiponectin in diminishing microvascular organ-specific endothelial cell activation during sepsis.\n",
       "  Organ Timepoint\n",
       "1 BM    h24      \n",
       "2 BM    h24      "
      ]
     },
     "metadata": {},
     "output_type": "display_data"
    },
    {
     "data": {
      "text/html": [
       "<table>\n",
       "<caption>A tibble: 2 x 2</caption>\n",
       "<thead>\n",
       "\t<tr><th scope=col>GeneID</th><th scope=col>GeneRIF_D1</th></tr>\n",
       "\t<tr><th scope=col>&lt;chr&gt;</th><th scope=col>&lt;int&gt;</th></tr>\n",
       "</thead>\n",
       "<tbody>\n",
       "\t<tr><td>11450</td><td>3</td></tr>\n",
       "\t<tr><td>11491</td><td>2</td></tr>\n",
       "</tbody>\n",
       "</table>\n"
      ],
      "text/latex": [
       "A tibble: 2 x 2\n",
       "\\begin{tabular}{r|ll}\n",
       " GeneID & GeneRIF\\_D1\\\\\n",
       " <chr> & <int>\\\\\n",
       "\\hline\n",
       "\t 11450 & 3\\\\\n",
       "\t 11491 & 2\\\\\n",
       "\\end{tabular}\n"
      ],
      "text/markdown": [
       "\n",
       "A tibble: 2 x 2\n",
       "\n",
       "| GeneID &lt;chr&gt; | GeneRIF_D1 &lt;int&gt; |\n",
       "|---|---|\n",
       "| 11450 | 3 |\n",
       "| 11491 | 2 |\n",
       "\n"
      ],
      "text/plain": [
       "  GeneID GeneRIF_D1\n",
       "1 11450  3         \n",
       "2 11491  2         "
      ]
     },
     "metadata": {},
     "output_type": "display_data"
    },
    {
     "data": {
      "text/html": [
       "<ol class=list-inline>\n",
       "\t<li>866</li>\n",
       "\t<li>2</li>\n",
       "</ol>\n"
      ],
      "text/latex": [
       "\\begin{enumerate*}\n",
       "\\item 866\n",
       "\\item 2\n",
       "\\end{enumerate*}\n"
      ],
      "text/markdown": [
       "1. 866\n",
       "2. 2\n",
       "\n",
       "\n"
      ],
      "text/plain": [
       "[1] 866   2"
      ]
     },
     "metadata": {},
     "output_type": "display_data"
    },
    {
     "data": {
      "text/html": [
       "<table>\n",
       "<caption>A tibble: 3 x 2</caption>\n",
       "<thead>\n",
       "\t<tr><th scope=col>GeneID</th><th scope=col>GeneRIF_Total</th></tr>\n",
       "\t<tr><th scope=col>&lt;chr&gt;</th><th scope=col>&lt;int&gt;</th></tr>\n",
       "</thead>\n",
       "<tbody>\n",
       "\t<tr><td>11421</td><td>84</td></tr>\n",
       "\t<tr><td>11423</td><td>84</td></tr>\n",
       "\t<tr><td>11425</td><td> 1</td></tr>\n",
       "</tbody>\n",
       "</table>\n"
      ],
      "text/latex": [
       "A tibble: 3 x 2\n",
       "\\begin{tabular}{r|ll}\n",
       " GeneID & GeneRIF\\_Total\\\\\n",
       " <chr> & <int>\\\\\n",
       "\\hline\n",
       "\t 11421 & 84\\\\\n",
       "\t 11423 & 84\\\\\n",
       "\t 11425 &  1\\\\\n",
       "\\end{tabular}\n"
      ],
      "text/markdown": [
       "\n",
       "A tibble: 3 x 2\n",
       "\n",
       "| GeneID &lt;chr&gt; | GeneRIF_Total &lt;int&gt; |\n",
       "|---|---|\n",
       "| 11421 | 84 |\n",
       "| 11423 | 84 |\n",
       "| 11425 |  1 |\n",
       "\n"
      ],
      "text/plain": [
       "  GeneID GeneRIF_Total\n",
       "1 11421  84           \n",
       "2 11423  84           \n",
       "3 11425   1           "
      ]
     },
     "metadata": {},
     "output_type": "display_data"
    }
   ],
   "source": [
    "# count Total GeneRIFs (with and with out disease 1) by genes\n",
    "# Filter GeneRIFs  with Disease 1\n",
    " \n",
    "DEGSWithDisease1 <- DEGsWithSymbols %>%\n",
    "                    filter(str_detect(GeneRIF, regex(\"\\\\bsepsis\\\\b\", ignore_case = TRUE)))\n",
    "\n",
    "head(DEGSWithDisease1,2)\n",
    "\n",
    "# Filter GeneRIFs without Disease 1\n",
    "DEGSWithoutDisease1 <- DEGsWithSymbols %>%\n",
    "                    filter(str_detect(GeneRIF, regex(\"\\\\bsepsis\\\\b\", ignore_case = TRUE), negate=TRUE))\n",
    "\n",
    "# count GeneRIfs by gene\n",
    "DEGSWithDisease1Count <- DEGSWithDisease1 %>%\n",
    "            group_by(GeneID) %>%\n",
    "            mutate(GeneRIF_D1 = n())%>%\n",
    "            ungroup() %>%\n",
    "            select(GeneID,GeneRIF_D1) %>%\n",
    "            distinct() \n",
    "\n",
    "head(DEGSWithDisease1Count,2)\n",
    "\n",
    "# count Total GeneRIF (with and with out disease 1) by genes\n",
    "TotalGeneRIFCountByDEGs <- DEGsWithSymbols %>%\n",
    "            group_by(GeneID) %>%\n",
    "            mutate(GeneRIF_Total = n()) %>%\n",
    "            ungroup() %>%\n",
    "            select(GeneID,GeneRIF_Total) %>%\n",
    "            distinct() \n",
    "\n",
    "dim(TotalGeneRIFCountByDEGs)\n",
    "head(TotalGeneRIFCountByDEGs,3)\n",
    "\n"
   ]
  },
  {
   "cell_type": "code",
   "execution_count": 27,
   "metadata": {},
   "outputs": [
    {
     "name": "stderr",
     "output_type": "stream",
     "text": [
      "Joining, by = \"GeneID\"\n"
     ]
    },
    {
     "data": {
      "text/html": [
       "<table>\n",
       "<caption>A tibble: 2 x 6</caption>\n",
       "<thead>\n",
       "\t<tr><th scope=col>GeneID</th><th scope=col>GeneRIF_Total</th><th scope=col>GeneRIF_D1</th><th scope=col>GeneSymbol</th><th scope=col>Organ</th><th scope=col>Timepoint</th></tr>\n",
       "\t<tr><th scope=col>&lt;chr&gt;</th><th scope=col>&lt;int&gt;</th><th scope=col>&lt;int&gt;</th><th scope=col>&lt;chr&gt;</th><th scope=col>&lt;chr&gt;</th><th scope=col>&lt;chr&gt;</th></tr>\n",
       "</thead>\n",
       "<tbody>\n",
       "\t<tr><td>11421</td><td>84</td><td>NA</td><td>Ace </td><td>BM</td><td>h24</td></tr>\n",
       "\t<tr><td>11423</td><td>84</td><td>NA</td><td>Ache</td><td>LU</td><td>h12</td></tr>\n",
       "</tbody>\n",
       "</table>\n"
      ],
      "text/latex": [
       "A tibble: 2 x 6\n",
       "\\begin{tabular}{r|llllll}\n",
       " GeneID & GeneRIF\\_Total & GeneRIF\\_D1 & GeneSymbol & Organ & Timepoint\\\\\n",
       " <chr> & <int> & <int> & <chr> & <chr> & <chr>\\\\\n",
       "\\hline\n",
       "\t 11421 & 84 & NA & Ace  & BM & h24\\\\\n",
       "\t 11423 & 84 & NA & Ache & LU & h12\\\\\n",
       "\\end{tabular}\n"
      ],
      "text/markdown": [
       "\n",
       "A tibble: 2 x 6\n",
       "\n",
       "| GeneID &lt;chr&gt; | GeneRIF_Total &lt;int&gt; | GeneRIF_D1 &lt;int&gt; | GeneSymbol &lt;chr&gt; | Organ &lt;chr&gt; | Timepoint &lt;chr&gt; |\n",
       "|---|---|---|---|---|---|\n",
       "| 11421 | 84 | NA | Ace  | BM | h24 |\n",
       "| 11423 | 84 | NA | Ache | LU | h12 |\n",
       "\n"
      ],
      "text/plain": [
       "  GeneID GeneRIF_Total GeneRIF_D1 GeneSymbol Organ Timepoint\n",
       "1 11421  84            NA         Ace        BM    h24      \n",
       "2 11423  84            NA         Ache       LU    h12      "
      ]
     },
     "metadata": {},
     "output_type": "display_data"
    }
   ],
   "source": [
    "# join Total GeneRIF count and GeneRIF count with disease 1\n",
    "SummaryGeneRIFCountByDEGs <- TotalGeneRIFCountByDEGs %>%\n",
    "                full_join(DEGSWithDisease1Count) %>%\n",
    "                full_join(DEGsGeneList_dt, by = \"GeneID\")\n",
    "\n",
    "head(SummaryGeneRIFCountByDEGs,2)"
   ]
  },
  {
   "cell_type": "markdown",
   "metadata": {},
   "source": [
    "# Exporting Data"
   ]
  },
  {
   "cell_type": "code",
   "execution_count": 28,
   "metadata": {},
   "outputs": [
    {
     "name": "stderr",
     "output_type": "stream",
     "text": [
      "Warning message in dir.create(\"output\"):\n",
      "“'output' already exists”"
     ]
    }
   ],
   "source": [
    "\n",
    "#create an output folder to save files\n",
    "dir.create(\"output\")"
   ]
  },
  {
   "cell_type": "code",
   "execution_count": 29,
   "metadata": {},
   "outputs": [
    {
     "data": {
      "text/html": [
       "<ol class=list-inline>\n",
       "\t<li>'DEGs_GeneRIF_readr.csv'</li>\n",
       "\t<li>'DEGs_GeneRIF.csv'</li>\n",
       "\t<li>'DEGs_Test_dt.csv'</li>\n",
       "\t<li>'DEGs_Test_readr.csv'</li>\n",
       "\t<li>'FunctionalAnnotationPlot.pdf'</li>\n",
       "\t<li>'GeneRIFbarplot.pdf'</li>\n",
       "\t<li>'GeneRIFscatterplotWithNames.pdf'</li>\n",
       "\t<li>'GeneRIFsPlotbyOrgan.pdf'</li>\n",
       "\t<li>'GeneRIFsPlotbyOrganTimepoint.pdf'</li>\n",
       "\t<li>'SummaryGeneRIFCountByDEGs.csv'</li>\n",
       "\t<li>'workshopOutputFile.xlsx'</li>\n",
       "</ol>\n"
      ],
      "text/latex": [
       "\\begin{enumerate*}\n",
       "\\item 'DEGs\\_GeneRIF\\_readr.csv'\n",
       "\\item 'DEGs\\_GeneRIF.csv'\n",
       "\\item 'DEGs\\_Test\\_dt.csv'\n",
       "\\item 'DEGs\\_Test\\_readr.csv'\n",
       "\\item 'FunctionalAnnotationPlot.pdf'\n",
       "\\item 'GeneRIFbarplot.pdf'\n",
       "\\item 'GeneRIFscatterplotWithNames.pdf'\n",
       "\\item 'GeneRIFsPlotbyOrgan.pdf'\n",
       "\\item 'GeneRIFsPlotbyOrganTimepoint.pdf'\n",
       "\\item 'SummaryGeneRIFCountByDEGs.csv'\n",
       "\\item 'workshopOutputFile.xlsx'\n",
       "\\end{enumerate*}\n"
      ],
      "text/markdown": [
       "1. 'DEGs_GeneRIF_readr.csv'\n",
       "2. 'DEGs_GeneRIF.csv'\n",
       "3. 'DEGs_Test_dt.csv'\n",
       "4. 'DEGs_Test_readr.csv'\n",
       "5. 'FunctionalAnnotationPlot.pdf'\n",
       "6. 'GeneRIFbarplot.pdf'\n",
       "7. 'GeneRIFscatterplotWithNames.pdf'\n",
       "8. 'GeneRIFsPlotbyOrgan.pdf'\n",
       "9. 'GeneRIFsPlotbyOrganTimepoint.pdf'\n",
       "10. 'SummaryGeneRIFCountByDEGs.csv'\n",
       "11. 'workshopOutputFile.xlsx'\n",
       "\n",
       "\n"
      ],
      "text/plain": [
       " [1] \"DEGs_GeneRIF_readr.csv\"           \"DEGs_GeneRIF.csv\"                \n",
       " [3] \"DEGs_Test_dt.csv\"                 \"DEGs_Test_readr.csv\"             \n",
       " [5] \"FunctionalAnnotationPlot.pdf\"     \"GeneRIFbarplot.pdf\"              \n",
       " [7] \"GeneRIFscatterplotWithNames.pdf\"  \"GeneRIFsPlotbyOrgan.pdf\"         \n",
       " [9] \"GeneRIFsPlotbyOrganTimepoint.pdf\" \"SummaryGeneRIFCountByDEGs.csv\"   \n",
       "[11] \"workshopOutputFile.xlsx\"         "
      ]
     },
     "metadata": {},
     "output_type": "display_data"
    }
   ],
   "source": [
    "# write data using fwrite\n",
    "fwrite(DEGs_output,str_c(getwd(),\"/output/DEGs_GeneRIF.csv\"))\n",
    "\n",
    "# try with write_csv()\n",
    "write_csv(DEGs_output,str_c(getwd(),\"/output/DEGs_GeneRIF_readr.csv\"))\n",
    "\n",
    "# check output files\n",
    "dir(str_c(getwd(),\"/output/\"))"
   ]
  },
  {
   "cell_type": "code",
   "execution_count": 30,
   "metadata": {},
   "outputs": [
    {
     "data": {
      "text/plain": [
       "   user  system elapsed \n",
       "  0.352   0.009   0.411 "
      ]
     },
     "metadata": {},
     "output_type": "display_data"
    },
    {
     "data": {
      "text/plain": [
       "   user  system elapsed \n",
       "  0.031   0.004   0.064 "
      ]
     },
     "metadata": {},
     "output_type": "display_data"
    }
   ],
   "source": [
    "# compare the execution time to write the files\n",
    "system.time(write_csv(DEGs_output, \"output/DEGs_Test_readr.csv\"))\n",
    "system.time(fwrite(DEGs_output,\"output/DEGs_Test_dt.csv\"))\n",
    "\n",
    "\n"
   ]
  },
  {
   "cell_type": "code",
   "execution_count": 31,
   "metadata": {},
   "outputs": [],
   "source": [
    "# write the summary output to a file\n",
    "fwrite(SummaryGeneRIFCountByDEGs,str_c(getwd(),\"/output/SummaryGeneRIFCountByDEGs.csv\"),na=\"NA\")"
   ]
  },
  {
   "cell_type": "code",
   "execution_count": 32,
   "metadata": {},
   "outputs": [
    {
     "name": "stderr",
     "output_type": "stream",
     "text": [
      "Note: zip::zip() is deprecated, please use zip::zipr() instead\n"
     ]
    }
   ],
   "source": [
    "# write the two files into excel spreadsheets\n",
    "\n",
    "outputFiles <- list(\"DEGSWithGeneRIF\" = DEGs_output, \"SummaryGeneRIFCountByGene\" = SummaryGeneRIFCountByDEGs)\n",
    "write.xlsx(outputFiles, file = str_c(getwd(),\"/output/workshopOutputFile.xlsx\"), keepNA=TRUE)"
   ]
  },
  {
   "cell_type": "markdown",
   "metadata": {},
   "source": [
    "# Sanity Check\n",
    "\n",
    "NCBI gene database"
   ]
  },
  {
   "cell_type": "code",
   "execution_count": 33,
   "metadata": {},
   "outputs": [
    {
     "data": {
      "text/html": [
       "<table>\n",
       "<caption>A data.frame: 0 x 7</caption>\n",
       "<thead>\n",
       "\t<tr><th scope=col>TaxID</th><th scope=col>GeneID</th><th scope=col>GeneSymbol</th><th scope=col>PubMedID</th><th scope=col>GeneRIF</th><th scope=col>Organ</th><th scope=col>Timepoint</th></tr>\n",
       "\t<tr><th scope=col>&lt;chr&gt;</th><th scope=col>&lt;chr&gt;</th><th scope=col>&lt;chr&gt;</th><th scope=col>&lt;chr&gt;</th><th scope=col>&lt;chr&gt;</th><th scope=col>&lt;chr&gt;</th><th scope=col>&lt;chr&gt;</th></tr>\n",
       "</thead>\n",
       "<tbody>\n",
       "</tbody>\n",
       "</table>\n"
      ],
      "text/latex": [
       "A data.frame: 0 x 7\n",
       "\\begin{tabular}{r|lllllll}\n",
       " TaxID & GeneID & GeneSymbol & PubMedID & GeneRIF & Organ & Timepoint\\\\\n",
       " <chr> & <chr> & <chr> & <chr> & <chr> & <chr> & <chr>\\\\\n",
       "\\hline\n",
       "\\end{tabular}\n"
      ],
      "text/markdown": [
       "\n",
       "A data.frame: 0 x 7\n",
       "\n",
       "| TaxID &lt;chr&gt; | GeneID &lt;chr&gt; | GeneSymbol &lt;chr&gt; | PubMedID &lt;chr&gt; | GeneRIF &lt;chr&gt; | Organ &lt;chr&gt; | Timepoint &lt;chr&gt; |\n",
       "|---|---|---|---|---|---|---|\n",
       "\n"
      ],
      "text/plain": [
       "     TaxID GeneID GeneSymbol PubMedID GeneRIF Organ Timepoint"
      ]
     },
     "metadata": {},
     "output_type": "display_data"
    },
    {
     "data": {
      "text/html": [
       "<table>\n",
       "<caption>A data.frame: 0 x 7</caption>\n",
       "<thead>\n",
       "\t<tr><th scope=col>TaxID</th><th scope=col>GeneID</th><th scope=col>GeneSymbol</th><th scope=col>PubMedID</th><th scope=col>GeneRIF</th><th scope=col>Organ</th><th scope=col>Timepoint</th></tr>\n",
       "\t<tr><th scope=col>&lt;chr&gt;</th><th scope=col>&lt;chr&gt;</th><th scope=col>&lt;chr&gt;</th><th scope=col>&lt;chr&gt;</th><th scope=col>&lt;chr&gt;</th><th scope=col>&lt;chr&gt;</th><th scope=col>&lt;chr&gt;</th></tr>\n",
       "</thead>\n",
       "<tbody>\n",
       "</tbody>\n",
       "</table>\n"
      ],
      "text/latex": [
       "A data.frame: 0 x 7\n",
       "\\begin{tabular}{r|lllllll}\n",
       " TaxID & GeneID & GeneSymbol & PubMedID & GeneRIF & Organ & Timepoint\\\\\n",
       " <chr> & <chr> & <chr> & <chr> & <chr> & <chr> & <chr>\\\\\n",
       "\\hline\n",
       "\\end{tabular}\n"
      ],
      "text/markdown": [
       "\n",
       "A data.frame: 0 x 7\n",
       "\n",
       "| TaxID &lt;chr&gt; | GeneID &lt;chr&gt; | GeneSymbol &lt;chr&gt; | PubMedID &lt;chr&gt; | GeneRIF &lt;chr&gt; | Organ &lt;chr&gt; | Timepoint &lt;chr&gt; |\n",
       "|---|---|---|---|---|---|---|\n",
       "\n"
      ],
      "text/plain": [
       "     TaxID GeneID GeneSymbol PubMedID GeneRIF Organ Timepoint"
      ]
     },
     "metadata": {},
     "output_type": "display_data"
    },
    {
     "data": {
      "text/html": [
       "<table>\n",
       "<caption>A data.frame: 1 x 7</caption>\n",
       "<thead>\n",
       "\t<tr><th scope=col>TaxID</th><th scope=col>GeneID</th><th scope=col>GeneSymbol</th><th scope=col>PubMedID</th><th scope=col>GeneRIF</th><th scope=col>Organ</th><th scope=col>Timepoint</th></tr>\n",
       "\t<tr><th scope=col>&lt;chr&gt;</th><th scope=col>&lt;chr&gt;</th><th scope=col>&lt;chr&gt;</th><th scope=col>&lt;chr&gt;</th><th scope=col>&lt;chr&gt;</th><th scope=col>&lt;chr&gt;</th><th scope=col>&lt;chr&gt;</th></tr>\n",
       "</thead>\n",
       "<tbody>\n",
       "\t<tr><td>M.musculus</td><td>117586</td><td>A1bg</td><td>16723264</td><td>Expression of P5 protein cDNA #5 is liver-specific, sexually dimorphic, age-dependent, and may be involved in hepatocyte hyperplasia and liver enlargement.</td><td>BM</td><td>h6</td></tr>\n",
       "</tbody>\n",
       "</table>\n"
      ],
      "text/latex": [
       "A data.frame: 1 x 7\n",
       "\\begin{tabular}{r|lllllll}\n",
       " TaxID & GeneID & GeneSymbol & PubMedID & GeneRIF & Organ & Timepoint\\\\\n",
       " <chr> & <chr> & <chr> & <chr> & <chr> & <chr> & <chr>\\\\\n",
       "\\hline\n",
       "\t M.musculus & 117586 & A1bg & 16723264 & Expression of P5 protein cDNA \\#5 is liver-specific, sexually dimorphic, age-dependent, and may be involved in hepatocyte hyperplasia and liver enlargement. & BM & h6\\\\\n",
       "\\end{tabular}\n"
      ],
      "text/markdown": [
       "\n",
       "A data.frame: 1 x 7\n",
       "\n",
       "| TaxID &lt;chr&gt; | GeneID &lt;chr&gt; | GeneSymbol &lt;chr&gt; | PubMedID &lt;chr&gt; | GeneRIF &lt;chr&gt; | Organ &lt;chr&gt; | Timepoint &lt;chr&gt; |\n",
       "|---|---|---|---|---|---|---|\n",
       "| M.musculus | 117586 | A1bg | 16723264 | Expression of P5 protein cDNA #5 is liver-specific, sexually dimorphic, age-dependent, and may be involved in hepatocyte hyperplasia and liver enlargement. | BM | h6 |\n",
       "\n"
      ],
      "text/plain": [
       "  TaxID      GeneID GeneSymbol PubMedID\n",
       "1 M.musculus 117586 A1bg       16723264\n",
       "  GeneRIF                                                                                                                                                    \n",
       "1 Expression of P5 protein cDNA #5 is liver-specific, sexually dimorphic, age-dependent, and may be involved in hepatocyte hyperplasia and liver enlargement.\n",
       "  Organ Timepoint\n",
       "1 BM    h6       "
      ]
     },
     "metadata": {},
     "output_type": "display_data"
    },
    {
     "data": {
      "text/html": [
       "<table>\n",
       "<caption>A data.frame: 1 x 7</caption>\n",
       "<thead>\n",
       "\t<tr><th scope=col>TaxID</th><th scope=col>GeneID</th><th scope=col>GeneSymbol</th><th scope=col>PubMedID</th><th scope=col>GeneRIF</th><th scope=col>Organ</th><th scope=col>Timepoint</th></tr>\n",
       "\t<tr><th scope=col>&lt;chr&gt;</th><th scope=col>&lt;chr&gt;</th><th scope=col>&lt;chr&gt;</th><th scope=col>&lt;chr&gt;</th><th scope=col>&lt;chr&gt;</th><th scope=col>&lt;chr&gt;</th><th scope=col>&lt;chr&gt;</th></tr>\n",
       "</thead>\n",
       "<tbody>\n",
       "\t<tr><td>M.musculus</td><td>11425</td><td>Apoc4</td><td>12032151</td><td>regulated exprsesion of gene cluster in macrophages</td><td>BM</td><td>h6</td></tr>\n",
       "</tbody>\n",
       "</table>\n"
      ],
      "text/latex": [
       "A data.frame: 1 x 7\n",
       "\\begin{tabular}{r|lllllll}\n",
       " TaxID & GeneID & GeneSymbol & PubMedID & GeneRIF & Organ & Timepoint\\\\\n",
       " <chr> & <chr> & <chr> & <chr> & <chr> & <chr> & <chr>\\\\\n",
       "\\hline\n",
       "\t M.musculus & 11425 & Apoc4 & 12032151 & regulated exprsesion of gene cluster in macrophages & BM & h6\\\\\n",
       "\\end{tabular}\n"
      ],
      "text/markdown": [
       "\n",
       "A data.frame: 1 x 7\n",
       "\n",
       "| TaxID &lt;chr&gt; | GeneID &lt;chr&gt; | GeneSymbol &lt;chr&gt; | PubMedID &lt;chr&gt; | GeneRIF &lt;chr&gt; | Organ &lt;chr&gt; | Timepoint &lt;chr&gt; |\n",
       "|---|---|---|---|---|---|---|\n",
       "| M.musculus | 11425 | Apoc4 | 12032151 | regulated exprsesion of gene cluster in macrophages | BM | h6 |\n",
       "\n"
      ],
      "text/plain": [
       "  TaxID      GeneID GeneSymbol PubMedID\n",
       "1 M.musculus 11425  Apoc4      12032151\n",
       "  GeneRIF                                             Organ Timepoint\n",
       "1 regulated exprsesion of gene cluster in macrophages BM    h6       "
      ]
     },
     "metadata": {},
     "output_type": "display_data"
    },
    {
     "data": {
      "text/html": [
       "<table>\n",
       "<caption>A data.frame: 1 x 7</caption>\n",
       "<thead>\n",
       "\t<tr><th scope=col>TaxID</th><th scope=col>GeneID</th><th scope=col>GeneSymbol</th><th scope=col>PubMedID</th><th scope=col>GeneRIF</th><th scope=col>Organ</th><th scope=col>Timepoint</th></tr>\n",
       "\t<tr><th scope=col>&lt;chr&gt;</th><th scope=col>&lt;chr&gt;</th><th scope=col>&lt;chr&gt;</th><th scope=col>&lt;chr&gt;</th><th scope=col>&lt;chr&gt;</th><th scope=col>&lt;chr&gt;</th><th scope=col>&lt;chr&gt;</th></tr>\n",
       "</thead>\n",
       "<tbody>\n",
       "\t<tr><td>M.musculus</td><td>57319</td><td>Smpdl3a</td><td>26792860</td><td>The structural basis for SMPDL3A substrate specificity resolve by X-ray crystallography.</td><td>BM</td><td>h12</td></tr>\n",
       "</tbody>\n",
       "</table>\n"
      ],
      "text/latex": [
       "A data.frame: 1 x 7\n",
       "\\begin{tabular}{r|lllllll}\n",
       " TaxID & GeneID & GeneSymbol & PubMedID & GeneRIF & Organ & Timepoint\\\\\n",
       " <chr> & <chr> & <chr> & <chr> & <chr> & <chr> & <chr>\\\\\n",
       "\\hline\n",
       "\t M.musculus & 57319 & Smpdl3a & 26792860 & The structural basis for SMPDL3A substrate specificity resolve by X-ray crystallography. & BM & h12\\\\\n",
       "\\end{tabular}\n"
      ],
      "text/markdown": [
       "\n",
       "A data.frame: 1 x 7\n",
       "\n",
       "| TaxID &lt;chr&gt; | GeneID &lt;chr&gt; | GeneSymbol &lt;chr&gt; | PubMedID &lt;chr&gt; | GeneRIF &lt;chr&gt; | Organ &lt;chr&gt; | Timepoint &lt;chr&gt; |\n",
       "|---|---|---|---|---|---|---|\n",
       "| M.musculus | 57319 | Smpdl3a | 26792860 | The structural basis for SMPDL3A substrate specificity resolve by X-ray crystallography. | BM | h12 |\n",
       "\n"
      ],
      "text/plain": [
       "  TaxID      GeneID GeneSymbol PubMedID\n",
       "1 M.musculus 57319  Smpdl3a    26792860\n",
       "  GeneRIF                                                                                 \n",
       "1 The structural basis for SMPDL3A substrate specificity resolve by X-ray crystallography.\n",
       "  Organ Timepoint\n",
       "1 BM    h12      "
      ]
     },
     "metadata": {},
     "output_type": "display_data"
    }
   ],
   "source": [
    "# lets define a function for sanity check. the only argument it will take will be GeneID \n",
    "sanityCheck <- function(x){\n",
    "    DEGsWithSymbols %>%\n",
    "filter(GeneID == x)\n",
    "}\n",
    "# Genes without GeneRIF\n",
    "sanityCheck(\"99543\")\n",
    "sanityCheck(\"110785\")\n",
    "# Genes with GeneRIF\n",
    "sanityCheck(\"117586\")\n",
    "#sanityCheck(\"12268\")\n",
    "# genes without Disease 1\n",
    "sanityCheck(\"11425\")\n",
    "sanityCheck(\"57319\")\n",
    "\n"
   ]
  },
  {
   "cell_type": "markdown",
   "metadata": {},
   "source": [
    "# Data visualization"
   ]
  },
  {
   "cell_type": "code",
   "execution_count": 34,
   "metadata": {},
   "outputs": [
    {
     "data": {
      "text/html": [
       "<table>\n",
       "<caption>A tibble: 6 x 6</caption>\n",
       "<thead>\n",
       "\t<tr><th scope=col>GeneID</th><th scope=col>GeneRIF_Total</th><th scope=col>GeneRIF_D1</th><th scope=col>GeneSymbol</th><th scope=col>Organ</th><th scope=col>Timepoint</th></tr>\n",
       "\t<tr><th scope=col>&lt;chr&gt;</th><th scope=col>&lt;int&gt;</th><th scope=col>&lt;int&gt;</th><th scope=col>&lt;chr&gt;</th><th scope=col>&lt;chr&gt;</th><th scope=col>&lt;chr&gt;</th></tr>\n",
       "</thead>\n",
       "<tbody>\n",
       "\t<tr><td>11421</td><td> 84</td><td>NA</td><td>Ace   </td><td>BM</td><td>h24</td></tr>\n",
       "\t<tr><td>11423</td><td> 84</td><td>NA</td><td>Ache  </td><td>LU</td><td>h12</td></tr>\n",
       "\t<tr><td>11425</td><td>  1</td><td>NA</td><td>Apoc4 </td><td>BM</td><td>h6 </td></tr>\n",
       "\t<tr><td>11450</td><td>423</td><td> 3</td><td>Adipoq</td><td>BM</td><td>h24</td></tr>\n",
       "\t<tr><td>11491</td><td>199</td><td> 2</td><td>Adam17</td><td>HE</td><td>h6 </td></tr>\n",
       "\t<tr><td>11502</td><td> 17</td><td>NA</td><td>Adam9 </td><td>BM</td><td>h24</td></tr>\n",
       "</tbody>\n",
       "</table>\n"
      ],
      "text/latex": [
       "A tibble: 6 x 6\n",
       "\\begin{tabular}{r|llllll}\n",
       " GeneID & GeneRIF\\_Total & GeneRIF\\_D1 & GeneSymbol & Organ & Timepoint\\\\\n",
       " <chr> & <int> & <int> & <chr> & <chr> & <chr>\\\\\n",
       "\\hline\n",
       "\t 11421 &  84 & NA & Ace    & BM & h24\\\\\n",
       "\t 11423 &  84 & NA & Ache   & LU & h12\\\\\n",
       "\t 11425 &   1 & NA & Apoc4  & BM & h6 \\\\\n",
       "\t 11450 & 423 &  3 & Adipoq & BM & h24\\\\\n",
       "\t 11491 & 199 &  2 & Adam17 & HE & h6 \\\\\n",
       "\t 11502 &  17 & NA & Adam9  & BM & h24\\\\\n",
       "\\end{tabular}\n"
      ],
      "text/markdown": [
       "\n",
       "A tibble: 6 x 6\n",
       "\n",
       "| GeneID &lt;chr&gt; | GeneRIF_Total &lt;int&gt; | GeneRIF_D1 &lt;int&gt; | GeneSymbol &lt;chr&gt; | Organ &lt;chr&gt; | Timepoint &lt;chr&gt; |\n",
       "|---|---|---|---|---|---|\n",
       "| 11421 |  84 | NA | Ace    | BM | h24 |\n",
       "| 11423 |  84 | NA | Ache   | LU | h12 |\n",
       "| 11425 |   1 | NA | Apoc4  | BM | h6  |\n",
       "| 11450 | 423 |  3 | Adipoq | BM | h24 |\n",
       "| 11491 | 199 |  2 | Adam17 | HE | h6  |\n",
       "| 11502 |  17 | NA | Adam9  | BM | h24 |\n",
       "\n"
      ],
      "text/plain": [
       "  GeneID GeneRIF_Total GeneRIF_D1 GeneSymbol Organ Timepoint\n",
       "1 11421   84           NA         Ace        BM    h24      \n",
       "2 11423   84           NA         Ache       LU    h12      \n",
       "3 11425    1           NA         Apoc4      BM    h6       \n",
       "4 11450  423            3         Adipoq     BM    h24      \n",
       "5 11491  199            2         Adam17     HE    h6       \n",
       "6 11502   17           NA         Adam9      BM    h24      "
      ]
     },
     "metadata": {},
     "output_type": "display_data"
    }
   ],
   "source": [
    "# prepare data for visualization\n",
    "head(SummaryGeneRIFCountByDEGs)\n",
    "# lets filter most frequent genes with disease annotation\n",
    "## fct_reorder() from forcats package in tidyverse imp for \n",
    "#reordering  gene symbol based on number of GeneRIFs \n",
    "GeneRIF_Disease1_Count <-  SummaryGeneRIFCountByDEGs %>%\n",
    "arrange(desc(GeneRIF_D1))%>%\n",
    "filter(GeneRIF_D1 > 1)  %>%\n",
    "mutate(GeneSymbol2 = fct_reorder(GeneSymbol,GeneRIF_D1)) \n",
    "\n",
    "#dim(GeneRIF_Disease1_Count)\n",
    "\n",
    "\n",
    "# lets take most frequent genes with disease annotation\n",
    "GeneRIF_Disease1_Plot <- head(GeneRIF_Disease1_Count,10)\n",
    "\n",
    "\n"
   ]
  },
  {
   "cell_type": "code",
   "execution_count": 35,
   "metadata": {},
   "outputs": [
    {
     "data": {
      "image/png": "[encoded data removed]",
      "text/plain": [
       "plot without title"
      ]
     },
     "metadata": {},
     "output_type": "display_data"
    }
   ],
   "source": [
    "# lets make a barplot\n",
    "options(repr.plot.width = 15, repr.plot.height =10)\n",
    "plot <- ggplot(GeneRIF_Disease1_Plot, aes(GeneSymbol2, GeneRIF_D1)) + \n",
    "geom_col(fill = \"grey\", alpha = 0.5) +\n",
    "coord_flip(ylim = c(1, 24)) +\n",
    "labs(x =\"Gene Symbols\", y =\"Number of GeneRIFs with Disease\") \n",
    "#plot\n",
    "barPlot_D1 <- plot + \n",
    "theme_classic() + \n",
    "theme(axis.text=element_text(family=\"Times\",\n",
    "                             size=16, color = \"black\",\n",
    "                             margin(t = 0, r = 0, b = 30, l = 30)),\n",
    "                             axis.title=element_text(family=\"Times\",size=24), \n",
    "                             axis.line = element_line(colour = \"black\", size=1),\n",
    "                             axis.ticks = element_line(size = 1), axis.ticks.length = unit(6, \"pt\")) \n",
    "\n",
    "barPlot_D1\n",
    "ggsave(str_c(getwd(),\"/output/GeneRIFbarplot.pdf\"),plot=barPlot_D1, height=10, \n",
    "       width=15, units=\"in\", dpi=150)"
   ]
  },
  {
   "cell_type": "code",
   "execution_count": 36,
   "metadata": {},
   "outputs": [
    {
     "data": {
      "text/html": [
       "<ol class=list-inline>\n",
       "\t<li>'DEGs_GeneRIF_readr.csv'</li>\n",
       "\t<li>'DEGs_GeneRIF.csv'</li>\n",
       "\t<li>'DEGs_Test_dt.csv'</li>\n",
       "\t<li>'DEGs_Test_readr.csv'</li>\n",
       "\t<li>'FunctionalAnnotationPlot.pdf'</li>\n",
       "\t<li>'GeneRIFbarplot.pdf'</li>\n",
       "\t<li>'GeneRIFscatterplotWithNames.pdf'</li>\n",
       "\t<li>'GeneRIFsPlotbyOrgan.pdf'</li>\n",
       "\t<li>'GeneRIFsPlotbyOrganTimepoint.pdf'</li>\n",
       "\t<li>'SummaryGeneRIFCountByDEGs.csv'</li>\n",
       "\t<li>'workshopOutputFile.xlsx'</li>\n",
       "</ol>\n"
      ],
      "text/latex": [
       "\\begin{enumerate*}\n",
       "\\item 'DEGs\\_GeneRIF\\_readr.csv'\n",
       "\\item 'DEGs\\_GeneRIF.csv'\n",
       "\\item 'DEGs\\_Test\\_dt.csv'\n",
       "\\item 'DEGs\\_Test\\_readr.csv'\n",
       "\\item 'FunctionalAnnotationPlot.pdf'\n",
       "\\item 'GeneRIFbarplot.pdf'\n",
       "\\item 'GeneRIFscatterplotWithNames.pdf'\n",
       "\\item 'GeneRIFsPlotbyOrgan.pdf'\n",
       "\\item 'GeneRIFsPlotbyOrganTimepoint.pdf'\n",
       "\\item 'SummaryGeneRIFCountByDEGs.csv'\n",
       "\\item 'workshopOutputFile.xlsx'\n",
       "\\end{enumerate*}\n"
      ],
      "text/markdown": [
       "1. 'DEGs_GeneRIF_readr.csv'\n",
       "2. 'DEGs_GeneRIF.csv'\n",
       "3. 'DEGs_Test_dt.csv'\n",
       "4. 'DEGs_Test_readr.csv'\n",
       "5. 'FunctionalAnnotationPlot.pdf'\n",
       "6. 'GeneRIFbarplot.pdf'\n",
       "7. 'GeneRIFscatterplotWithNames.pdf'\n",
       "8. 'GeneRIFsPlotbyOrgan.pdf'\n",
       "9. 'GeneRIFsPlotbyOrganTimepoint.pdf'\n",
       "10. 'SummaryGeneRIFCountByDEGs.csv'\n",
       "11. 'workshopOutputFile.xlsx'\n",
       "\n",
       "\n"
      ],
      "text/plain": [
       " [1] \"DEGs_GeneRIF_readr.csv\"           \"DEGs_GeneRIF.csv\"                \n",
       " [3] \"DEGs_Test_dt.csv\"                 \"DEGs_Test_readr.csv\"             \n",
       " [5] \"FunctionalAnnotationPlot.pdf\"     \"GeneRIFbarplot.pdf\"              \n",
       " [7] \"GeneRIFscatterplotWithNames.pdf\"  \"GeneRIFsPlotbyOrgan.pdf\"         \n",
       " [9] \"GeneRIFsPlotbyOrganTimepoint.pdf\" \"SummaryGeneRIFCountByDEGs.csv\"   \n",
       "[11] \"workshopOutputFile.xlsx\"         "
      ]
     },
     "metadata": {},
     "output_type": "display_data"
    },
    {
     "data": {
      "image/png": "[encoded data removed]",
      "text/plain": [
       "plot without title"
      ]
     },
     "metadata": {},
     "output_type": "display_data"
    }
   ],
   "source": [
    "# Make a scatter plot of top genes\n",
    "#head(GeneRIF_Disease1_Plot)\n",
    "options(repr.plot.width = 15, repr.plot.height = 10)\n",
    "plot_s <- ggplot(GeneRIF_Disease1_Plot, aes(GeneRIF_Total, GeneRIF_D1/GeneRIF_Total))\n",
    "plot_s <- plot_s +\n",
    "          geom_text(label = GeneRIF_Disease1_Plot$GeneSymbol2, check_overlap = TRUE, size = 6) +\n",
    "labs(x = \"GeneRIF_Total\", y =\"GeneRIF_Disease / GeneRIF_Total\") + xlim(0,2000) \n",
    "#plot_s\n",
    "plot_s2 <- plot_s + theme_classic() + \n",
    "theme(axis.text = element_text(family=\"Times\",size=16, color = \"black\",margin(t = 0, r = 0, b = 30, l = 30)),\n",
    "      axis.title=element_text(family=\"Times\",size=24), \n",
    "      axis.line = element_line(colour = \"black\", size=1),\n",
    "      axis.ticks = element_line(size = 1), \n",
    "      axis.ticks.length = unit(6, \"pt\"))  \n",
    " \n",
    "plot_s2\n",
    "ggsave(str_c(getwd(),\"/output/GeneRIFscatterplotWithNames.pdf\"),plot=plot_s2, height=10, width=15, units=\"in\", dpi=150)\n",
    "\n",
    "# check output files\n",
    "dir(str_c(getwd(),\"/output/\"))"
   ]
  },
  {
   "cell_type": "code",
   "execution_count": 37,
   "metadata": {},
   "outputs": [
    {
     "data": {
      "text/html": [
       "<table>\n",
       "<caption>A grouped_df: 3 x 2</caption>\n",
       "<thead>\n",
       "\t<tr><th scope=col>Organ</th><th scope=col>n</th></tr>\n",
       "\t<tr><th scope=col>&lt;chr&gt;</th><th scope=col>&lt;int&gt;</th></tr>\n",
       "</thead>\n",
       "<tbody>\n",
       "\t<tr><td>BM</td><td>46</td></tr>\n",
       "\t<tr><td>HE</td><td>32</td></tr>\n",
       "\t<tr><td>LU</td><td>38</td></tr>\n",
       "</tbody>\n",
       "</table>\n"
      ],
      "text/latex": [
       "A grouped_df: 3 x 2\n",
       "\\begin{tabular}{r|ll}\n",
       " Organ & n\\\\\n",
       " <chr> & <int>\\\\\n",
       "\\hline\n",
       "\t BM & 46\\\\\n",
       "\t HE & 32\\\\\n",
       "\t LU & 38\\\\\n",
       "\\end{tabular}\n"
      ],
      "text/markdown": [
       "\n",
       "A grouped_df: 3 x 2\n",
       "\n",
       "| Organ &lt;chr&gt; | n &lt;int&gt; |\n",
       "|---|---|\n",
       "| BM | 46 |\n",
       "| HE | 32 |\n",
       "| LU | 38 |\n",
       "\n"
      ],
      "text/plain": [
       "  Organ n \n",
       "1 BM    46\n",
       "2 HE    32\n",
       "3 LU    38"
      ]
     },
     "metadata": {},
     "output_type": "display_data"
    }
   ],
   "source": [
    "# Plot number of genes with disease annotated GeneRIFs by organ \n",
    "PlotbyOrgan  <-  SummaryGeneRIFCountByDEGs %>%\n",
    "filter(!is.na(GeneRIF_D1)) %>%\n",
    "select(GeneSymbol,Organ) %>%\n",
    "group_by(Organ) %>%\n",
    "count() \n",
    "\n",
    "PlotbyOrgan"
   ]
  },
  {
   "cell_type": "code",
   "execution_count": 38,
   "metadata": {},
   "outputs": [
    {
     "data": {
      "image/png": "[encoded data removed]",
      "text/plain": [
       "plot without title"
      ]
     },
     "metadata": {},
     "output_type": "display_data"
    }
   ],
   "source": [
    "# by organ\n",
    "options(repr.plot.width = 15, repr.plot.height =10)\n",
    "\n",
    "plotOrgan <-  ggplot(PlotbyOrgan , aes(fct_rev(fct_reorder(Organ, n)),n, fill = Organ)) + \n",
    "geom_col(alpha =0.6) +\n",
    "labs(x =\"Organ\", y =\"Number of Genes (with Disease annotated GeneRIFs)\") \n",
    "plotGeneCountByOrgan <- plotOrgan + theme_classic() + \n",
    "                       theme_classic() + \n",
    "                       theme(axis.text=element_text(family=\"Times\",size=20, \n",
    "                                                    color = \"black\",\n",
    "                                                    margin(t = 0, r = 0, b = 30, l = 30)),\n",
    "                             axis.title=element_text(family=\"Times\",size=24), \n",
    "                             axis.line = element_line(colour = \"black\", size=1),\n",
    "                             axis.ticks = element_line(size = 1), \n",
    "                             axis.ticks.length = unit(6, \"pt\")) + \n",
    "                       theme(legend.title=element_text(size=18,family=\"Times\" ),\n",
    "                             legend.text=element_text(size=14, family=\"Times\"))\n",
    "plotGeneCountByOrgan\n",
    "ggsave(str_c(getwd(),\"/output/GeneRIFsPlotbyOrgan.pdf\"),plot=plotGeneCountByOrgan, height=10, width=15, units=\"in\", dpi=150)"
   ]
  },
  {
   "cell_type": "code",
   "execution_count": 39,
   "metadata": {},
   "outputs": [
    {
     "data": {
      "text/html": [
       "<table>\n",
       "<caption>A tibble: 9 x 4</caption>\n",
       "<thead>\n",
       "\t<tr><th scope=col>Organ</th><th scope=col>Timepoint</th><th scope=col>n</th><th scope=col>hour</th></tr>\n",
       "\t<tr><th scope=col>&lt;chr&gt;</th><th scope=col>&lt;chr&gt;</th><th scope=col>&lt;int&gt;</th><th scope=col>&lt;chr&gt;</th></tr>\n",
       "</thead>\n",
       "<tbody>\n",
       "\t<tr><td>BM</td><td>h12</td><td>16</td><td>12</td></tr>\n",
       "\t<tr><td>BM</td><td>h24</td><td>18</td><td>24</td></tr>\n",
       "\t<tr><td>BM</td><td>h6 </td><td>12</td><td>6 </td></tr>\n",
       "\t<tr><td>HE</td><td>h12</td><td> 3</td><td>12</td></tr>\n",
       "\t<tr><td>HE</td><td>h24</td><td> 5</td><td>24</td></tr>\n",
       "\t<tr><td>HE</td><td>h6 </td><td>24</td><td>6 </td></tr>\n",
       "\t<tr><td>LU</td><td>h12</td><td>18</td><td>12</td></tr>\n",
       "\t<tr><td>LU</td><td>h24</td><td> 7</td><td>24</td></tr>\n",
       "\t<tr><td>LU</td><td>h6 </td><td>13</td><td>6 </td></tr>\n",
       "</tbody>\n",
       "</table>\n"
      ],
      "text/latex": [
       "A tibble: 9 x 4\n",
       "\\begin{tabular}{r|llll}\n",
       " Organ & Timepoint & n & hour\\\\\n",
       " <chr> & <chr> & <int> & <chr>\\\\\n",
       "\\hline\n",
       "\t BM & h12 & 16 & 12\\\\\n",
       "\t BM & h24 & 18 & 24\\\\\n",
       "\t BM & h6  & 12 & 6 \\\\\n",
       "\t HE & h12 &  3 & 12\\\\\n",
       "\t HE & h24 &  5 & 24\\\\\n",
       "\t HE & h6  & 24 & 6 \\\\\n",
       "\t LU & h12 & 18 & 12\\\\\n",
       "\t LU & h24 &  7 & 24\\\\\n",
       "\t LU & h6  & 13 & 6 \\\\\n",
       "\\end{tabular}\n"
      ],
      "text/markdown": [
       "\n",
       "A tibble: 9 x 4\n",
       "\n",
       "| Organ &lt;chr&gt; | Timepoint &lt;chr&gt; | n &lt;int&gt; | hour &lt;chr&gt; |\n",
       "|---|---|---|---|\n",
       "| BM | h12 | 16 | 12 |\n",
       "| BM | h24 | 18 | 24 |\n",
       "| BM | h6  | 12 | 6  |\n",
       "| HE | h12 |  3 | 12 |\n",
       "| HE | h24 |  5 | 24 |\n",
       "| HE | h6  | 24 | 6  |\n",
       "| LU | h12 | 18 | 12 |\n",
       "| LU | h24 |  7 | 24 |\n",
       "| LU | h6  | 13 | 6  |\n",
       "\n"
      ],
      "text/plain": [
       "  Organ Timepoint n  hour\n",
       "1 BM    h12       16 12  \n",
       "2 BM    h24       18 24  \n",
       "3 BM    h6        12 6   \n",
       "4 HE    h12        3 12  \n",
       "5 HE    h24        5 24  \n",
       "6 HE    h6        24 6   \n",
       "7 LU    h12       18 12  \n",
       "8 LU    h24        7 24  \n",
       "9 LU    h6        13 6   "
      ]
     },
     "metadata": {},
     "output_type": "display_data"
    }
   ],
   "source": [
    "#by organ and timepoint\n",
    "PlotbyOrgan_Timepoint  <-  SummaryGeneRIFCountByDEGs %>%\n",
    "filter(!is.na(GeneRIF_D1)) %>%\n",
    "select(GeneSymbol,Organ,Timepoint) %>%\n",
    "group_by(Organ,Timepoint) %>%\n",
    "count() %>%\n",
    "ungroup()%>%\n",
    "mutate(hour = str_replace_all(Timepoint, \"h\", \"\"))\n",
    "\n",
    "PlotbyOrgan_Timepoint\n",
    "\n"
   ]
  },
  {
   "cell_type": "code",
   "execution_count": 40,
   "metadata": {},
   "outputs": [
    {
     "data": {
      "image/png": "[encoded data removed]",
      "text/plain": [
       "plot without title"
      ]
     },
     "metadata": {},
     "output_type": "display_data"
    }
   ],
   "source": [
    "#make a plot with number of genes by timepoint and organ.\n",
    "options(repr.plot.width = 15, repr.plot.height =10)\n",
    "plotOrganTimepoint <- ggplot(PlotbyOrgan_Timepoint, aes(x= factor(hour, levels = c('6','12','24')),n, fill = Organ)) + \n",
    "geom_col(position=\"dodge\", alpha = 0.6) +\n",
    "facet_wrap( ~ Organ, ncol=3, scales =\"free_x\") + \n",
    "labs(x = \"Time point (h) \", y = \"Number of Genes (with Disease annotated GeneRIFs)\") \n",
    "plotOrganTimepoint <- plotOrganTimepoint + theme_classic() + \n",
    "                                          theme(axis.text=element_text(angle = 90, \n",
    "                                                                       vjust = 1, hjust=1,\n",
    "                                                                       family=\"Times\",size=20, \n",
    "                                                                       color = \"black\",\n",
    "                                                                       margin(t = 0, r = 0, b = 30, l = 30)),\n",
    "                                                axis.title=element_text(family=\"Times\",size=24), \n",
    "                                                axis.line = element_line(colour = \"black\", size=1),\n",
    "                                                axis.ticks = element_line(size = 1), \n",
    "                                                axis.ticks.length = unit(6, \"pt\")) + \n",
    "                                           theme(legend.title=element_text(size=18,family=\"Times\" ),\n",
    "                                                 legend.text=element_text(size=14, family=\"Times\"),\n",
    "                                                strip.text.x = element_text(size = 12, face = \"bold\"))\n",
    "\n",
    "plotOrganTimepoint\n",
    "ggsave(str_c(getwd(),\"/output/GeneRIFsPlotbyOrganTimepoint.pdf\"),plot=plotOrganTimepoint, height=10, width=15, units=\"in\", dpi=150)"
   ]
  },
  {
   "cell_type": "code",
   "execution_count": 41,
   "metadata": {},
   "outputs": [
    {
     "data": {
      "text/html": [
       "<table>\n",
       "<caption>A data.table: 2 x 13</caption>\n",
       "<thead>\n",
       "\t<tr><th scope=col>Category</th><th scope=col>Term</th><th scope=col>Count</th><th scope=col>%</th><th scope=col>PValue</th><th scope=col>Genes</th><th scope=col>List Total</th><th scope=col>Pop Hits</th><th scope=col>Pop Total</th><th scope=col>Fold Enrichment</th><th scope=col>Bonferroni</th><th scope=col>Benjamini</th><th scope=col>FDR</th></tr>\n",
       "\t<tr><th scope=col>&lt;chr&gt;</th><th scope=col>&lt;chr&gt;</th><th scope=col>&lt;int&gt;</th><th scope=col>&lt;dbl&gt;</th><th scope=col>&lt;dbl&gt;</th><th scope=col>&lt;chr&gt;</th><th scope=col>&lt;int&gt;</th><th scope=col>&lt;int&gt;</th><th scope=col>&lt;int&gt;</th><th scope=col>&lt;dbl&gt;</th><th scope=col>&lt;dbl&gt;</th><th scope=col>&lt;dbl&gt;</th><th scope=col>&lt;dbl&gt;</th></tr>\n",
       "</thead>\n",
       "<tbody>\n",
       "\t<tr><td>KEGG_PATHWAY</td><td>mmu05133:Pertussis                                </td><td>6</td><td>0.5267779</td><td>1.49e-09</td><td>IL10, IL6, IL1B, NLRP3, HC, TNF</td><td>8</td><td> 74</td><td>7691</td><td>77.94932</td><td>9.37e-08</td><td>9.37e-08</td><td>9.37e-08</td></tr>\n",
       "\t<tr><td>KEGG_PATHWAY</td><td>mmu05142:Chagas disease (American trypanosomiasis)</td><td>5</td><td>0.4389816</td><td>1.03e-06</td><td>IL10, IL6, IL1B, TNF, TNFRSF1A </td><td>8</td><td>103</td><td>7691</td><td>46.66869</td><td>6.49e-05</td><td>3.24e-05</td><td>3.24e-05</td></tr>\n",
       "</tbody>\n",
       "</table>\n"
      ],
      "text/latex": [
       "A data.table: 2 x 13\n",
       "\\begin{tabular}{r|lllllllllllll}\n",
       " Category & Term & Count & \\% & PValue & Genes & List Total & Pop Hits & Pop Total & Fold Enrichment & Bonferroni & Benjamini & FDR\\\\\n",
       " <chr> & <chr> & <int> & <dbl> & <dbl> & <chr> & <int> & <int> & <int> & <dbl> & <dbl> & <dbl> & <dbl>\\\\\n",
       "\\hline\n",
       "\t KEGG\\_PATHWAY & mmu05133:Pertussis                                 & 6 & 0.5267779 & 1.49e-09 & IL10, IL6, IL1B, NLRP3, HC, TNF & 8 &  74 & 7691 & 77.94932 & 9.37e-08 & 9.37e-08 & 9.37e-08\\\\\n",
       "\t KEGG\\_PATHWAY & mmu05142:Chagas disease (American trypanosomiasis) & 5 & 0.4389816 & 1.03e-06 & IL10, IL6, IL1B, TNF, TNFRSF1A  & 8 & 103 & 7691 & 46.66869 & 6.49e-05 & 3.24e-05 & 3.24e-05\\\\\n",
       "\\end{tabular}\n"
      ],
      "text/markdown": [
       "\n",
       "A data.table: 2 x 13\n",
       "\n",
       "| Category &lt;chr&gt; | Term &lt;chr&gt; | Count &lt;int&gt; | % &lt;dbl&gt; | PValue &lt;dbl&gt; | Genes &lt;chr&gt; | List Total &lt;int&gt; | Pop Hits &lt;int&gt; | Pop Total &lt;int&gt; | Fold Enrichment &lt;dbl&gt; | Bonferroni &lt;dbl&gt; | Benjamini &lt;dbl&gt; | FDR &lt;dbl&gt; |\n",
       "|---|---|---|---|---|---|---|---|---|---|---|---|---|\n",
       "| KEGG_PATHWAY | mmu05133:Pertussis                                 | 6 | 0.5267779 | 1.49e-09 | IL10, IL6, IL1B, NLRP3, HC, TNF | 8 |  74 | 7691 | 77.94932 | 9.37e-08 | 9.37e-08 | 9.37e-08 |\n",
       "| KEGG_PATHWAY | mmu05142:Chagas disease (American trypanosomiasis) | 5 | 0.4389816 | 1.03e-06 | IL10, IL6, IL1B, TNF, TNFRSF1A  | 8 | 103 | 7691 | 46.66869 | 6.49e-05 | 3.24e-05 | 3.24e-05 |\n",
       "\n"
      ],
      "text/plain": [
       "  Category     Term                                               Count\n",
       "1 KEGG_PATHWAY mmu05133:Pertussis                                 6    \n",
       "2 KEGG_PATHWAY mmu05142:Chagas disease (American trypanosomiasis) 5    \n",
       "  %         PValue   Genes                           List Total Pop Hits\n",
       "1 0.5267779 1.49e-09 IL10, IL6, IL1B, NLRP3, HC, TNF 8           74     \n",
       "2 0.4389816 1.03e-06 IL10, IL6, IL1B, TNF, TNFRSF1A  8          103     \n",
       "  Pop Total Fold Enrichment Bonferroni Benjamini FDR     \n",
       "1 7691      77.94932        9.37e-08   9.37e-08  9.37e-08\n",
       "2 7691      46.66869        6.49e-05   3.24e-05  3.24e-05"
      ]
     },
     "metadata": {},
     "output_type": "display_data"
    },
    {
     "data": {
      "text/html": [
       "<table>\n",
       "<caption>A data.frame: 2 x 2</caption>\n",
       "<thead>\n",
       "\t<tr><th></th><th scope=col>FDR</th><th scope=col>Term</th></tr>\n",
       "\t<tr><th></th><th scope=col>&lt;dbl&gt;</th><th scope=col>&lt;chr&gt;</th></tr>\n",
       "</thead>\n",
       "<tbody>\n",
       "\t<tr><th scope=row>24</th><td>0.01390936</td><td>Osteoclast differentiation  </td></tr>\n",
       "\t<tr><th scope=row>25</th><td>0.01802980</td><td>Systemic lupus erythematosus</td></tr>\n",
       "</tbody>\n",
       "</table>\n"
      ],
      "text/latex": [
       "A data.frame: 2 x 2\n",
       "\\begin{tabular}{r|ll}\n",
       "  & FDR & Term\\\\\n",
       "  & <dbl> & <chr>\\\\\n",
       "\\hline\n",
       "\t24 & 0.01390936 & Osteoclast differentiation  \\\\\n",
       "\t25 & 0.01802980 & Systemic lupus erythematosus\\\\\n",
       "\\end{tabular}\n"
      ],
      "text/markdown": [
       "\n",
       "A data.frame: 2 x 2\n",
       "\n",
       "| <!--/--> | FDR &lt;dbl&gt; | Term &lt;chr&gt; |\n",
       "|---|---|---|\n",
       "| 24 | 0.01390936 | Osteoclast differentiation   |\n",
       "| 25 | 0.01802980 | Systemic lupus erythematosus |\n",
       "\n"
      ],
      "text/plain": [
       "   FDR        Term                        \n",
       "24 0.01390936 Osteoclast differentiation  \n",
       "25 0.01802980 Systemic lupus erythematosus"
      ]
     },
     "metadata": {},
     "output_type": "display_data"
    }
   ],
   "source": [
    "# functional Annotation of Genes using KEGG database (Kyoto Encyclopedia of Genes and Genomes)\n",
    "#GeneRIF_Disease1_Plot %>%\n",
    "#select(GeneSymbol2)\n",
    "# DAVID (the Database for Annotation, Visualization and Integrated Discovery)\n",
    "#enrichment of top 10 genes\n",
    "KEGGFile <- fread(\"FunctionalAnnotationKEGG.csv\")\n",
    "head(KEGGFile,2)\n",
    "\n",
    "# Make  file for plot\n",
    "DiseasePathway <- KEGGFile %>%\n",
    "select(Term, FDR) %>%\n",
    "mutate(Term2 = str_replace_all(Term , pattern = \"^mmu[0-9*:]+\", \"\")) %>%\n",
    "select(-Term) %>%\n",
    "rename(Term = Term2)\n",
    "\n",
    "\n",
    "tail(DiseasePathway,2)"
   ]
  },
  {
   "cell_type": "code",
   "execution_count": 42,
   "metadata": {},
   "outputs": [
    {
     "data": {
      "image/png": "[encoded data removed]",
      "text/plain": [
       "plot without title"
      ]
     },
     "metadata": {},
     "output_type": "display_data"
    }
   ],
   "source": [
    "# Let's plot\n",
    "options(repr.plot.width = 15, repr.plot.height =10)\n",
    "plotPathways <- ggplot(DiseasePathway, aes(fct_rev(fct_reorder(Term,FDR)), -log10(FDR))) + \n",
    "geom_col(alpha=0.4) +\n",
    "coord_flip() + \n",
    "labs(x =\"\", y =\"-Log10 (FDR adjusted P values)\") \n",
    "plotPathways <- plotPathways + \n",
    "                theme_classic() + \n",
    "                theme(axis.text=element_text(family=\"Times\",\n",
    "                                             size=16, \n",
    "                                             color = \"black\",\n",
    "                                             margin(t = 0, r = 0, b = 30, l = 30)),\n",
    "                      axis.title=element_text(family=\"Times\",size=24), \n",
    "                      axis.line = element_line(colour = \"black\", size=1), \n",
    "                      axis.ticks = element_line(size = 1), \n",
    "                      axis.ticks.length = unit(6, \"pt\")) \n",
    "plotPathways\n",
    "ggsave(str_c(getwd(),\"/output/FunctionalAnnotationPlot.pdf\"),plot=plotPathways, height=10, width=15, units=\"in\", dpi=150)"
   ]
  },
  {
   "cell_type": "code",
   "execution_count": null,
   "metadata": {},
   "outputs": [],
   "source": []
  }
 ],
 "metadata": {
  "kernelspec": {
   "display_name": "R",
   "language": "R",
   "name": "ir"
  },
  "language_info": {
   "codemirror_mode": "r",
   "file_extension": ".r",
   "mimetype": "text/x-r-source",
   "name": "R",
   "pygments_lexer": "r",
   "version": "3.6.1"
  }
 },
 "nbformat": 4,
 "nbformat_minor": 4
}
